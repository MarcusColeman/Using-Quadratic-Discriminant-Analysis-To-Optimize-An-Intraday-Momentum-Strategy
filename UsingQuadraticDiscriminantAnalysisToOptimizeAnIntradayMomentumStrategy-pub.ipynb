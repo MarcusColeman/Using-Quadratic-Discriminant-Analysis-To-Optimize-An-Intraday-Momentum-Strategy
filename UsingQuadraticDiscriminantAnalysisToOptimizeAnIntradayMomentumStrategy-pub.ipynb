{
 "cells": [
  {
   "cell_type": "markdown",
   "metadata": {},
   "source": [
    "# Using Quadratic Discriminant Analysis to Optimize an Intraday Momentum Strategy"
   ]
  },
  {
   "cell_type": "markdown",
   "metadata": {},
   "source": [
    "In this post, we will create a intraday momentum strategy and use QDA as a means of optimizing our strategy. We'll begin by reviewing Linear Discrimnant Analysis or LDA and how it is associated with QDA, gain an understanding of QDA and when we might implement this techinque instead of Linear Discrimnant Analysis. We will then create our intraday momentum strategy using data on the eMini S&P 500 futures and apply our QDA analysis to it to improve our trading strategy."
   ]
  },
  {
   "cell_type": "markdown",
   "metadata": {},
   "source": [
    "Let's get started!"
   ]
  },
  {
   "cell_type": "markdown",
   "metadata": {},
   "source": [
    "# Linear Discriminant Analysis Review"
   ]
  },
  {
   "cell_type": "markdown",
   "metadata": {},
   "source": [
    "Recall that the purpose of using machine learning techniques is so that we are able to make better inferences and predictions from our data. Thus, the intent of machine learning is analogous to that of implementing a quantitative trading worflow. In quantiative trading our goal is eliminate cognitive biases toward the end of basing our decisions on sound evidence or logic. In other words, our aim is to remove and replace the subjectivity inherent in manual trading with objectivity offered via quantitative trading. Machine learning is a means to achieve this."
   ]
  },
  {
   "cell_type": "markdown",
   "metadata": {},
   "source": [
    "Classification is one type of machine learning problem. In a standard classification problem, we have some $\\large y$ or response that contains $\\large k$ levels or possible classes. We can use quantitative or numerical, qualitatitve or categorical, or a mix of the two data types as our $\\large X$, or features to predict the class of our data. In a trading context, an example of a classfication problem is attempting to predict the direction of the next price. In a regression setting, we would attempt to construct a model that would allow us to predict the actual price, or numerical response. So regression problems deal with numerical predictions and classification deals with categorical predictions."
   ]
  },
  {
   "cell_type": "markdown",
   "metadata": {},
   "source": [
    "When we implement a machine learning algorithm, we are making an approximation of $\\large f(x)$ which is an equation that represents the relationship between $\\large X$ or our predictors and $\\large y$, our response. Parametric models offer us the advantage of focusing on estimating specific coefficients of an equation rather than estimating the entire equation. This means that instead of trying to compose an entire equation that represents the relationship between our inputs and outputs, we can make some assumptions about our data and structure our model based on an existing equation and solve for the coefficients of that equation. There are pros and cons to such models which we won't go deeply into, but essentially, a model, in order to be effective in providing predictions, needs to reflect or \"model\" the data in reality. Models have inherent assumptions and if those assumptions are not consistent with reality, the model will have a low accuracy or predictive ability."
   ]
  },
  {
   "cell_type": "markdown",
   "metadata": {},
   "source": [
    "Given its name, you might have guessed that LDA assumes linearity."
   ]
  },
  {
   "cell_type": "markdown",
   "metadata": {},
   "source": [
    "In LDA we begin with $\\large k$ classes that our observations can fall into. The model creates a probability distribution for each $\\large k$ class. Unlike Logistic Regression which estimates the probability of an observation being in a specific class directly, LDA uses Bayes Theorem and sorta estimates this posterior probability indirectly."
   ]
  },
  {
   "cell_type": "markdown",
   "metadata": {},
   "source": [
    "For example, recall from algebra that the equation for a line is $\\large y=mx+b$."
   ]
  },
  {
   "cell_type": "markdown",
   "metadata": {},
   "source": [
    "With this equation in hand, we can fit a line to our data simply by estimating $\\large m$ and $\\large b$, where $\\large m$ is the slope or derivative(i.e. rate of change) of $\\large y$ given a one unit change in $\\large x$ and $\\large b$ is the intercept, or the value of $\\large y$ when $\\large x$ is equal to 0. This equation allows us, given some $\\large x$ values, to estimate the coefficients $\\large m$ and $\\large b$ and make predictions for $\\large y$."
   ]
  },
  {
   "cell_type": "markdown",
   "metadata": {},
   "source": [
    "This process is similar to that of implementing a parametric model. We have an assumption about how our data is structured, illustrated via our linear equation, and thus we can simply estimate our coefficients to make a prediction."
   ]
  },
  {
   "cell_type": "markdown",
   "metadata": {},
   "source": [
    "The equation for LDA is below:"
   ]
  },
  {
   "cell_type": "markdown",
   "metadata": {},
   "source": [
    "$$ \\LARGE \\delta_k (x)= \\rm x \\ { \\mu_k \\over \\sigma^2} - { {\\mu_k^2} \\over 2\\sigma^2} + \\log(\\pi_k)$$ "
   ]
  },
  {
   "cell_type": "markdown",
   "metadata": {},
   "source": [
    "In this equation, we are seeking to estimate $\\large \\mu$ or the mean of each $\\large k$ class, $\\large \\pi_k$, or the prior probability of the $\\large k_{th}$ class and $\\large \\sigma^2$, or the common covariance matrix between each of the $\\large k$ classes. Once we have these coefficients, we can plug them into our equation to make our predictions."
   ]
  },
  {
   "cell_type": "markdown",
   "metadata": {},
   "source": [
    "To learn more about LDA, you can read the post entitled \"Using Linear Discriminant Analysis for Quantitative Portfolio Management.\""
   ]
  },
  {
   "cell_type": "markdown",
   "metadata": {},
   "source": [
    "# What is Quadratic Discriminant Analysis?"
   ]
  },
  {
   "cell_type": "markdown",
   "metadata": {},
   "source": [
    "Quadratic Discriminant Analysis is another machine learning classification technique. Like, LDA, it seeks to estimate some coefficients, plug those coefficients into an equation as means of making predictions. LDA and QDA are actually quite similiar. Both assume that the $\\large k$ classes can be drawn from Gaussian Distributions. QDA, again like LDA, uses Baye's Theorem to estimate the parameters of the equation. The equation for QDA is below:"
   ]
  },
  {
   "cell_type": "markdown",
   "metadata": {},
   "source": [
    "$$ \\LARGE \\delta_k (x)= \\rm {-1 \\over 2}  (x - \\mu_x)^T \\rm {\\sum_k^{-1}} (x- \\mu_k) \\rm {-1 \\over 2} \\rm {\\log |{\\sum_k}}| + \\log{\\pi_k}$$ "
   ]
  },
  {
   "cell_type": "markdown",
   "metadata": {},
   "source": [
    "which equals :"
   ]
  },
  {
   "cell_type": "markdown",
   "metadata": {},
   "source": [
    " $$ \\LARGE \\delta_k (x)= \\rm {-1 \\over 2} x^T  \\rm {\\sum_k^{-1}} x + x^T {\\sum_k^{-1}} \\mu_k  \\rm {-1 \\over 2} \\mu_k^T \\rm {\\sum_k^{-1}} \\mu_k \\rm {-1 \\over 2}{\\log |{\\sum_k}}| + \\log{\\pi_k}$$ "
   ]
  },
  {
   "cell_type": "markdown",
   "metadata": {},
   "source": [
    "So we can see that our QDA equation looks somewhat similar to that of our LDA equation, except that in LDA we estimate $\\large \\mu_k$, $\\large \\pi_k$ and $\\large \\sigma^2$, but in QDA we estimate $\\large \\mu_k$, $\\large \\pi_k$, and $\\large \\sum_k$."
   ]
  },
  {
   "cell_type": "markdown",
   "metadata": {},
   "source": [
    "In LDA, we assume that each $\\large k_{th}$ class has a shared covariance matrix, $\\large \\sigma^2$. But in QDA, this assumption has changed and we now assume that each $\\large k_{th}$ class has its own covariance matrix, $\\large \\sum_k$."
   ]
  },
  {
   "cell_type": "markdown",
   "metadata": {},
   "source": [
    "Okay, by now you may be thinking, if there are similarities between LDA and QDA, why would we use QDA. Couldn't we just stick to LDA because it's quite obvious that QDA is a bit more involved and incorporates matrix multiplication?"
   ]
  },
  {
   "cell_type": "markdown",
   "metadata": {},
   "source": [
    "Although LDA and QDA are similar, there exist instances where QDA should be used and may outperform LDA and vice versa. For example, LDA assumes that the $\\large k$ classes share a covariance matrix. If this assumption is invalid, then QDA will outperform LDA. Another consideration of the models are their flexibility. The flexibility of a model can be directly translated into a bias-variance tradeoff. The more flexible a model is, the more likely it is to overfit the data and have low bias but high variance. In contrast, the less flexible a model is, the more likely it is to have high bias but low variance, and thus not really resemble the true population."
   ]
  },
  {
   "cell_type": "markdown",
   "metadata": {},
   "source": [
    "LDA is a lot less flexible than QDA. LDA will have a high bias, or not be representative of reality, if the assumption of a common covariance matrix is incorrect. If this assumption is correct, it may be better to use LDA for classification versus that of QDA."
   ]
  },
  {
   "cell_type": "markdown",
   "metadata": {},
   "source": [
    "Also, the number of features plays an important role in model selection. If there are a lot of predictors, using QDA will be more computationally inefficient than that of LDA. This is because in QDA, you have more parameters to estimate and naturally this grows at some rate based on the number of predictors. QDA may be a better choice if there are a lot of training observations."
   ]
  },
  {
   "cell_type": "markdown",
   "metadata": {},
   "source": [
    "# Intraday Momentum Strategy Development"
   ]
  },
  {
   "cell_type": "markdown",
   "metadata": {},
   "source": [
    "Okay. Now that we've reviewed LDA and QDA, let's layout the framework for developing our intraday momentum strategy. We will use intraday data for the eMini S&P 500 and apply the RSI as our indicator of momentum. Our goal is to construct our strategy, assess its performance, and then improve the performance of our strategy by using Quadratic Discriminant Analysis."
   ]
  },
  {
   "cell_type": "markdown",
   "metadata": {},
   "source": [
    "Let's import some of our usual libraries."
   ]
  },
  {
   "cell_type": "code",
   "execution_count": 1,
   "metadata": {
    "collapsed": true
   },
   "outputs": [],
   "source": [
    "#data analysis and manipulation\n",
    "import numpy as np\n",
    "import pandas as pd\n",
    "#data visualization\n",
    "import matplotlib.pyplot as plt\n",
    "import seaborn as sns\n",
    "sns.set_style('whitegrid')"
   ]
  },
  {
   "cell_type": "markdown",
   "metadata": {},
   "source": [
    "Now that we have our initial libraries imported, let's import our data. We will use pandas to read our data in as a csv file."
   ]
  },
  {
   "cell_type": "code",
   "execution_count": 2,
   "metadata": {
    "collapsed": true
   },
   "outputs": [],
   "source": [
    "#initializing our data variable as our eMini data\n",
    "data=pd.read_csv('ESPostData.csv')"
   ]
  },
  {
   "cell_type": "markdown",
   "metadata": {},
   "source": [
    "Now that we have our data, let's do some exploratory data analysis on it. We'll start by using the info and describe methods and checking the head of our data."
   ]
  },
  {
   "cell_type": "code",
   "execution_count": 3,
   "metadata": {
    "collapsed": false
   },
   "outputs": [
    {
     "name": "stdout",
     "output_type": "stream",
     "text": [
      "<class 'pandas.core.frame.DataFrame'>\n",
      "RangeIndex: 28027 entries, 0 to 28026\n",
      "Data columns (total 10 columns):\n",
      "Date               28027 non-null object\n",
      " Time              28027 non-null object\n",
      " Open              28027 non-null float64\n",
      " High              28027 non-null float64\n",
      " Low               28027 non-null float64\n",
      " Close             28027 non-null float64\n",
      " Volume            28027 non-null int64\n",
      " NumberOfTrades    28027 non-null int64\n",
      " BidVolume         28027 non-null int64\n",
      " AskVolume         28027 non-null int64\n",
      "dtypes: float64(4), int64(4), object(2)\n",
      "memory usage: 2.1+ MB\n"
     ]
    }
   ],
   "source": [
    "data.info()"
   ]
  },
  {
   "cell_type": "markdown",
   "metadata": {},
   "source": [
    "From applying this method, we can see the types of data in our dataframe as well as the columns. Let's now call the describe method on our data."
   ]
  },
  {
   "cell_type": "code",
   "execution_count": 4,
   "metadata": {
    "collapsed": false
   },
   "outputs": [
    {
     "data": {
      "text/html": [
       "<div>\n",
       "<style scoped>\n",
       "    .dataframe tbody tr th:only-of-type {\n",
       "        vertical-align: middle;\n",
       "    }\n",
       "\n",
       "    .dataframe tbody tr th {\n",
       "        vertical-align: top;\n",
       "    }\n",
       "\n",
       "    .dataframe thead th {\n",
       "        text-align: right;\n",
       "    }\n",
       "</style>\n",
       "<table border=\"1\" class=\"dataframe\">\n",
       "  <thead>\n",
       "    <tr style=\"text-align: right;\">\n",
       "      <th></th>\n",
       "      <th>Open</th>\n",
       "      <th>High</th>\n",
       "      <th>Low</th>\n",
       "      <th>Close</th>\n",
       "      <th>Volume</th>\n",
       "      <th>NumberOfTrades</th>\n",
       "      <th>BidVolume</th>\n",
       "      <th>AskVolume</th>\n",
       "    </tr>\n",
       "  </thead>\n",
       "  <tbody>\n",
       "    <tr>\n",
       "      <th>count</th>\n",
       "      <td>28027.000000</td>\n",
       "      <td>28027.000000</td>\n",
       "      <td>28027.000000</td>\n",
       "      <td>28027.000000</td>\n",
       "      <td>28027.000000</td>\n",
       "      <td>28027.000000</td>\n",
       "      <td>28027.000000</td>\n",
       "      <td>28027.000000</td>\n",
       "    </tr>\n",
       "    <tr>\n",
       "      <th>mean</th>\n",
       "      <td>2733.430888</td>\n",
       "      <td>2734.161674</td>\n",
       "      <td>2732.674305</td>\n",
       "      <td>2733.431825</td>\n",
       "      <td>3234.251365</td>\n",
       "      <td>1264.080137</td>\n",
       "      <td>1612.782674</td>\n",
       "      <td>1621.468691</td>\n",
       "    </tr>\n",
       "    <tr>\n",
       "      <th>std</th>\n",
       "      <td>63.420158</td>\n",
       "      <td>63.165082</td>\n",
       "      <td>63.686300</td>\n",
       "      <td>63.418428</td>\n",
       "      <td>6764.764950</td>\n",
       "      <td>2389.889973</td>\n",
       "      <td>3449.191971</td>\n",
       "      <td>3370.833507</td>\n",
       "    </tr>\n",
       "    <tr>\n",
       "      <th>min</th>\n",
       "      <td>2531.000000</td>\n",
       "      <td>2533.750000</td>\n",
       "      <td>2529.000000</td>\n",
       "      <td>2531.000000</td>\n",
       "      <td>1.000000</td>\n",
       "      <td>1.000000</td>\n",
       "      <td>0.000000</td>\n",
       "      <td>0.000000</td>\n",
       "    </tr>\n",
       "    <tr>\n",
       "      <th>25%</th>\n",
       "      <td>2686.750000</td>\n",
       "      <td>2687.250000</td>\n",
       "      <td>2686.500000</td>\n",
       "      <td>2687.000000</td>\n",
       "      <td>265.000000</td>\n",
       "      <td>126.000000</td>\n",
       "      <td>125.000000</td>\n",
       "      <td>129.000000</td>\n",
       "    </tr>\n",
       "    <tr>\n",
       "      <th>50%</th>\n",
       "      <td>2724.500000</td>\n",
       "      <td>2725.250000</td>\n",
       "      <td>2723.750000</td>\n",
       "      <td>2724.500000</td>\n",
       "      <td>759.000000</td>\n",
       "      <td>332.000000</td>\n",
       "      <td>371.000000</td>\n",
       "      <td>374.000000</td>\n",
       "    </tr>\n",
       "    <tr>\n",
       "      <th>75%</th>\n",
       "      <td>2784.250000</td>\n",
       "      <td>2784.500000</td>\n",
       "      <td>2783.750000</td>\n",
       "      <td>2784.250000</td>\n",
       "      <td>3307.500000</td>\n",
       "      <td>1265.000000</td>\n",
       "      <td>1613.000000</td>\n",
       "      <td>1668.000000</td>\n",
       "    </tr>\n",
       "    <tr>\n",
       "      <th>max</th>\n",
       "      <td>2878.500000</td>\n",
       "      <td>2878.500000</td>\n",
       "      <td>2878.000000</td>\n",
       "      <td>2878.250000</td>\n",
       "      <td>177660.000000</td>\n",
       "      <td>40922.000000</td>\n",
       "      <td>94591.000000</td>\n",
       "      <td>83069.000000</td>\n",
       "    </tr>\n",
       "  </tbody>\n",
       "</table>\n",
       "</div>"
      ],
      "text/plain": [
       "               Open          High           Low         Close         Volume  \\\n",
       "count  28027.000000  28027.000000  28027.000000  28027.000000   28027.000000   \n",
       "mean    2733.430888   2734.161674   2732.674305   2733.431825    3234.251365   \n",
       "std       63.420158     63.165082     63.686300     63.418428    6764.764950   \n",
       "min     2531.000000   2533.750000   2529.000000   2531.000000       1.000000   \n",
       "25%     2686.750000   2687.250000   2686.500000   2687.000000     265.000000   \n",
       "50%     2724.500000   2725.250000   2723.750000   2724.500000     759.000000   \n",
       "75%     2784.250000   2784.500000   2783.750000   2784.250000    3307.500000   \n",
       "max     2878.500000   2878.500000   2878.000000   2878.250000  177660.000000   \n",
       "\n",
       "        NumberOfTrades     BidVolume     AskVolume  \n",
       "count     28027.000000  28027.000000  28027.000000  \n",
       "mean       1264.080137   1612.782674   1621.468691  \n",
       "std        2389.889973   3449.191971   3370.833507  \n",
       "min           1.000000      0.000000      0.000000  \n",
       "25%         126.000000    125.000000    129.000000  \n",
       "50%         332.000000    371.000000    374.000000  \n",
       "75%        1265.000000   1613.000000   1668.000000  \n",
       "max       40922.000000  94591.000000  83069.000000  "
      ]
     },
     "execution_count": 4,
     "metadata": {},
     "output_type": "execute_result"
    }
   ],
   "source": [
    "data.describe()"
   ]
  },
  {
   "cell_type": "markdown",
   "metadata": {},
   "source": [
    "This method gives us some statistical information about our data. We can now check the head of our data."
   ]
  },
  {
   "cell_type": "code",
   "execution_count": 5,
   "metadata": {
    "collapsed": false
   },
   "outputs": [
    {
     "data": {
      "text/html": [
       "<div>\n",
       "<style scoped>\n",
       "    .dataframe tbody tr th:only-of-type {\n",
       "        vertical-align: middle;\n",
       "    }\n",
       "\n",
       "    .dataframe tbody tr th {\n",
       "        vertical-align: top;\n",
       "    }\n",
       "\n",
       "    .dataframe thead th {\n",
       "        text-align: right;\n",
       "    }\n",
       "</style>\n",
       "<table border=\"1\" class=\"dataframe\">\n",
       "  <thead>\n",
       "    <tr style=\"text-align: right;\">\n",
       "      <th></th>\n",
       "      <th>Date</th>\n",
       "      <th>Time</th>\n",
       "      <th>Open</th>\n",
       "      <th>High</th>\n",
       "      <th>Low</th>\n",
       "      <th>Close</th>\n",
       "      <th>Volume</th>\n",
       "      <th>NumberOfTrades</th>\n",
       "      <th>BidVolume</th>\n",
       "      <th>AskVolume</th>\n",
       "    </tr>\n",
       "  </thead>\n",
       "  <tbody>\n",
       "    <tr>\n",
       "      <th>0</th>\n",
       "      <td>2017/12/12</td>\n",
       "      <td>15:30:00.0</td>\n",
       "      <td>2668.25</td>\n",
       "      <td>2668.75</td>\n",
       "      <td>2668.25</td>\n",
       "      <td>2668.50</td>\n",
       "      <td>1272</td>\n",
       "      <td>242</td>\n",
       "      <td>600</td>\n",
       "      <td>672</td>\n",
       "    </tr>\n",
       "    <tr>\n",
       "      <th>1</th>\n",
       "      <td>2017/12/12</td>\n",
       "      <td>15:33:00.0</td>\n",
       "      <td>2668.50</td>\n",
       "      <td>2668.50</td>\n",
       "      <td>2668.25</td>\n",
       "      <td>2668.50</td>\n",
       "      <td>54</td>\n",
       "      <td>27</td>\n",
       "      <td>6</td>\n",
       "      <td>48</td>\n",
       "    </tr>\n",
       "    <tr>\n",
       "      <th>2</th>\n",
       "      <td>2017/12/12</td>\n",
       "      <td>15:36:00.0</td>\n",
       "      <td>2668.50</td>\n",
       "      <td>2668.75</td>\n",
       "      <td>2668.50</td>\n",
       "      <td>2668.75</td>\n",
       "      <td>735</td>\n",
       "      <td>207</td>\n",
       "      <td>305</td>\n",
       "      <td>430</td>\n",
       "    </tr>\n",
       "    <tr>\n",
       "      <th>3</th>\n",
       "      <td>2017/12/12</td>\n",
       "      <td>15:39:00.0</td>\n",
       "      <td>2668.50</td>\n",
       "      <td>2669.00</td>\n",
       "      <td>2668.50</td>\n",
       "      <td>2668.75</td>\n",
       "      <td>566</td>\n",
       "      <td>120</td>\n",
       "      <td>382</td>\n",
       "      <td>184</td>\n",
       "    </tr>\n",
       "    <tr>\n",
       "      <th>4</th>\n",
       "      <td>2017/12/12</td>\n",
       "      <td>15:42:00.0</td>\n",
       "      <td>2668.75</td>\n",
       "      <td>2669.00</td>\n",
       "      <td>2668.50</td>\n",
       "      <td>2668.75</td>\n",
       "      <td>482</td>\n",
       "      <td>64</td>\n",
       "      <td>452</td>\n",
       "      <td>30</td>\n",
       "    </tr>\n",
       "  </tbody>\n",
       "</table>\n",
       "</div>"
      ],
      "text/plain": [
       "         Date         Time     Open     High      Low    Close   Volume  \\\n",
       "0  2017/12/12   15:30:00.0  2668.25  2668.75  2668.25  2668.50     1272   \n",
       "1  2017/12/12   15:33:00.0  2668.50  2668.50  2668.25  2668.50       54   \n",
       "2  2017/12/12   15:36:00.0  2668.50  2668.75  2668.50  2668.75      735   \n",
       "3  2017/12/12   15:39:00.0  2668.50  2669.00  2668.50  2668.75      566   \n",
       "4  2017/12/12   15:42:00.0  2668.75  2669.00  2668.50  2668.75      482   \n",
       "\n",
       "    NumberOfTrades   BidVolume   AskVolume  \n",
       "0              242         600         672  \n",
       "1               27           6          48  \n",
       "2              207         305         430  \n",
       "3              120         382         184  \n",
       "4               64         452          30  "
      ]
     },
     "execution_count": 5,
     "metadata": {},
     "output_type": "execute_result"
    }
   ],
   "source": [
    "data.head()"
   ]
  },
  {
   "cell_type": "markdown",
   "metadata": {},
   "source": [
    "We're going to create a momentum based strategy. We can see that we have data for every 3 minute interval. The volume traded into the bid and the ask may provide some insight into short term momentum. Let's create a delta column, our bid volume minus our ask volume, and compare this to the closing price and see if there is some relationship. We'll first make a copy of our data and then add our delta column."
   ]
  },
  {
   "cell_type": "code",
   "execution_count": 37,
   "metadata": {
    "collapsed": false
   },
   "outputs": [],
   "source": [
    "#making copy of our data \n",
    "es=data.copy()\n",
    "\n",
    "#creating delta column\n",
    "es['Delta']=es[' BidVolume']-es[' AskVolume']"
   ]
  },
  {
   "cell_type": "markdown",
   "metadata": {},
   "source": [
    "Now let's recheck the head of our data and create a regression plot.\n"
   ]
  },
  {
   "cell_type": "code",
   "execution_count": 38,
   "metadata": {
    "collapsed": false
   },
   "outputs": [
    {
     "data": {
      "text/html": [
       "<div>\n",
       "<style scoped>\n",
       "    .dataframe tbody tr th:only-of-type {\n",
       "        vertical-align: middle;\n",
       "    }\n",
       "\n",
       "    .dataframe tbody tr th {\n",
       "        vertical-align: top;\n",
       "    }\n",
       "\n",
       "    .dataframe thead th {\n",
       "        text-align: right;\n",
       "    }\n",
       "</style>\n",
       "<table border=\"1\" class=\"dataframe\">\n",
       "  <thead>\n",
       "    <tr style=\"text-align: right;\">\n",
       "      <th></th>\n",
       "      <th>Date</th>\n",
       "      <th>Time</th>\n",
       "      <th>Open</th>\n",
       "      <th>High</th>\n",
       "      <th>Low</th>\n",
       "      <th>Close</th>\n",
       "      <th>Volume</th>\n",
       "      <th>NumberOfTrades</th>\n",
       "      <th>BidVolume</th>\n",
       "      <th>AskVolume</th>\n",
       "      <th>Delta</th>\n",
       "    </tr>\n",
       "  </thead>\n",
       "  <tbody>\n",
       "    <tr>\n",
       "      <th>0</th>\n",
       "      <td>2017/12/12</td>\n",
       "      <td>15:30:00.0</td>\n",
       "      <td>2668.25</td>\n",
       "      <td>2668.75</td>\n",
       "      <td>2668.25</td>\n",
       "      <td>2668.50</td>\n",
       "      <td>1272</td>\n",
       "      <td>242</td>\n",
       "      <td>600</td>\n",
       "      <td>672</td>\n",
       "      <td>-72</td>\n",
       "    </tr>\n",
       "    <tr>\n",
       "      <th>1</th>\n",
       "      <td>2017/12/12</td>\n",
       "      <td>15:33:00.0</td>\n",
       "      <td>2668.50</td>\n",
       "      <td>2668.50</td>\n",
       "      <td>2668.25</td>\n",
       "      <td>2668.50</td>\n",
       "      <td>54</td>\n",
       "      <td>27</td>\n",
       "      <td>6</td>\n",
       "      <td>48</td>\n",
       "      <td>-42</td>\n",
       "    </tr>\n",
       "    <tr>\n",
       "      <th>2</th>\n",
       "      <td>2017/12/12</td>\n",
       "      <td>15:36:00.0</td>\n",
       "      <td>2668.50</td>\n",
       "      <td>2668.75</td>\n",
       "      <td>2668.50</td>\n",
       "      <td>2668.75</td>\n",
       "      <td>735</td>\n",
       "      <td>207</td>\n",
       "      <td>305</td>\n",
       "      <td>430</td>\n",
       "      <td>-125</td>\n",
       "    </tr>\n",
       "    <tr>\n",
       "      <th>3</th>\n",
       "      <td>2017/12/12</td>\n",
       "      <td>15:39:00.0</td>\n",
       "      <td>2668.50</td>\n",
       "      <td>2669.00</td>\n",
       "      <td>2668.50</td>\n",
       "      <td>2668.75</td>\n",
       "      <td>566</td>\n",
       "      <td>120</td>\n",
       "      <td>382</td>\n",
       "      <td>184</td>\n",
       "      <td>198</td>\n",
       "    </tr>\n",
       "    <tr>\n",
       "      <th>4</th>\n",
       "      <td>2017/12/12</td>\n",
       "      <td>15:42:00.0</td>\n",
       "      <td>2668.75</td>\n",
       "      <td>2669.00</td>\n",
       "      <td>2668.50</td>\n",
       "      <td>2668.75</td>\n",
       "      <td>482</td>\n",
       "      <td>64</td>\n",
       "      <td>452</td>\n",
       "      <td>30</td>\n",
       "      <td>422</td>\n",
       "    </tr>\n",
       "  </tbody>\n",
       "</table>\n",
       "</div>"
      ],
      "text/plain": [
       "         Date         Time     Open     High      Low    Close   Volume  \\\n",
       "0  2017/12/12   15:30:00.0  2668.25  2668.75  2668.25  2668.50     1272   \n",
       "1  2017/12/12   15:33:00.0  2668.50  2668.50  2668.25  2668.50       54   \n",
       "2  2017/12/12   15:36:00.0  2668.50  2668.75  2668.50  2668.75      735   \n",
       "3  2017/12/12   15:39:00.0  2668.50  2669.00  2668.50  2668.75      566   \n",
       "4  2017/12/12   15:42:00.0  2668.75  2669.00  2668.50  2668.75      482   \n",
       "\n",
       "    NumberOfTrades   BidVolume   AskVolume  Delta  \n",
       "0              242         600         672    -72  \n",
       "1               27           6          48    -42  \n",
       "2              207         305         430   -125  \n",
       "3              120         382         184    198  \n",
       "4               64         452          30    422  "
      ]
     },
     "execution_count": 38,
     "metadata": {},
     "output_type": "execute_result"
    }
   ],
   "source": [
    "es.head()\n"
   ]
  },
  {
   "cell_type": "code",
   "execution_count": 8,
   "metadata": {
    "collapsed": false
   },
   "outputs": [
    {
     "data": {
      "text/plain": [
       "<matplotlib.text.Text at 0x16b7bae3080>"
      ]
     },
     "execution_count": 8,
     "metadata": {},
     "output_type": "execute_result"
    },
    {
     "data": {
      "image/png": "[encoded data removed]",
      "text/plain": [
       "<matplotlib.figure.Figure at 0x16b7ba8e5f8>"
      ]
     },
     "metadata": {},
     "output_type": "display_data"
    }
   ],
   "source": [
    "#creating regression plot\n",
    "sns.lmplot('Delta',' Close',data=es)\n",
    "plt.title('ES Regression Delta to Close')"
   ]
  },
  {
   "cell_type": "markdown",
   "metadata": {},
   "source": [
    "Now that we've gotten an idea of the relationship between our delta and closing prices, let's plot a distribution of our delta."
   ]
  },
  {
   "cell_type": "code",
   "execution_count": 9,
   "metadata": {
    "collapsed": false
   },
   "outputs": [
    {
     "data": {
      "text/plain": [
       "<matplotlib.text.Text at 0x16b7bbb3550>"
      ]
     },
     "execution_count": 9,
     "metadata": {},
     "output_type": "execute_result"
    },
    {
     "data": {
      "image/png": "[encoded data removed]",
      "text/plain": [
       "<matplotlib.figure.Figure at 0x16b7bb566a0>"
      ]
     },
     "metadata": {},
     "output_type": "display_data"
    }
   ],
   "source": [
    "#creating distribution of delta\n",
    "sns.distplot(es['Delta'])\n",
    "plt.title('ES Delta Distribution')"
   ]
  },
  {
   "cell_type": "markdown",
   "metadata": {},
   "source": [
    "Now we'll add a range column to our data and view the relationship between the range of each bar and the delta."
   ]
  },
  {
   "cell_type": "code",
   "execution_count": 39,
   "metadata": {
    "collapsed": true
   },
   "outputs": [],
   "source": [
    "#adding our range column\n",
    "es['Range']=es[' High']-es[' Low']\n"
   ]
  },
  {
   "cell_type": "code",
   "execution_count": 40,
   "metadata": {
    "collapsed": false
   },
   "outputs": [
    {
     "data": {
      "text/html": [
       "<div>\n",
       "<style scoped>\n",
       "    .dataframe tbody tr th:only-of-type {\n",
       "        vertical-align: middle;\n",
       "    }\n",
       "\n",
       "    .dataframe tbody tr th {\n",
       "        vertical-align: top;\n",
       "    }\n",
       "\n",
       "    .dataframe thead th {\n",
       "        text-align: right;\n",
       "    }\n",
       "</style>\n",
       "<table border=\"1\" class=\"dataframe\">\n",
       "  <thead>\n",
       "    <tr style=\"text-align: right;\">\n",
       "      <th></th>\n",
       "      <th>Date</th>\n",
       "      <th>Time</th>\n",
       "      <th>Open</th>\n",
       "      <th>High</th>\n",
       "      <th>Low</th>\n",
       "      <th>Close</th>\n",
       "      <th>Volume</th>\n",
       "      <th>NumberOfTrades</th>\n",
       "      <th>BidVolume</th>\n",
       "      <th>AskVolume</th>\n",
       "      <th>Delta</th>\n",
       "      <th>Range</th>\n",
       "    </tr>\n",
       "  </thead>\n",
       "  <tbody>\n",
       "    <tr>\n",
       "      <th>0</th>\n",
       "      <td>2017/12/12</td>\n",
       "      <td>15:30:00.0</td>\n",
       "      <td>2668.25</td>\n",
       "      <td>2668.75</td>\n",
       "      <td>2668.25</td>\n",
       "      <td>2668.50</td>\n",
       "      <td>1272</td>\n",
       "      <td>242</td>\n",
       "      <td>600</td>\n",
       "      <td>672</td>\n",
       "      <td>-72</td>\n",
       "      <td>0.50</td>\n",
       "    </tr>\n",
       "    <tr>\n",
       "      <th>1</th>\n",
       "      <td>2017/12/12</td>\n",
       "      <td>15:33:00.0</td>\n",
       "      <td>2668.50</td>\n",
       "      <td>2668.50</td>\n",
       "      <td>2668.25</td>\n",
       "      <td>2668.50</td>\n",
       "      <td>54</td>\n",
       "      <td>27</td>\n",
       "      <td>6</td>\n",
       "      <td>48</td>\n",
       "      <td>-42</td>\n",
       "      <td>0.25</td>\n",
       "    </tr>\n",
       "    <tr>\n",
       "      <th>2</th>\n",
       "      <td>2017/12/12</td>\n",
       "      <td>15:36:00.0</td>\n",
       "      <td>2668.50</td>\n",
       "      <td>2668.75</td>\n",
       "      <td>2668.50</td>\n",
       "      <td>2668.75</td>\n",
       "      <td>735</td>\n",
       "      <td>207</td>\n",
       "      <td>305</td>\n",
       "      <td>430</td>\n",
       "      <td>-125</td>\n",
       "      <td>0.25</td>\n",
       "    </tr>\n",
       "    <tr>\n",
       "      <th>3</th>\n",
       "      <td>2017/12/12</td>\n",
       "      <td>15:39:00.0</td>\n",
       "      <td>2668.50</td>\n",
       "      <td>2669.00</td>\n",
       "      <td>2668.50</td>\n",
       "      <td>2668.75</td>\n",
       "      <td>566</td>\n",
       "      <td>120</td>\n",
       "      <td>382</td>\n",
       "      <td>184</td>\n",
       "      <td>198</td>\n",
       "      <td>0.50</td>\n",
       "    </tr>\n",
       "    <tr>\n",
       "      <th>4</th>\n",
       "      <td>2017/12/12</td>\n",
       "      <td>15:42:00.0</td>\n",
       "      <td>2668.75</td>\n",
       "      <td>2669.00</td>\n",
       "      <td>2668.50</td>\n",
       "      <td>2668.75</td>\n",
       "      <td>482</td>\n",
       "      <td>64</td>\n",
       "      <td>452</td>\n",
       "      <td>30</td>\n",
       "      <td>422</td>\n",
       "      <td>0.50</td>\n",
       "    </tr>\n",
       "  </tbody>\n",
       "</table>\n",
       "</div>"
      ],
      "text/plain": [
       "         Date         Time     Open     High      Low    Close   Volume  \\\n",
       "0  2017/12/12   15:30:00.0  2668.25  2668.75  2668.25  2668.50     1272   \n",
       "1  2017/12/12   15:33:00.0  2668.50  2668.50  2668.25  2668.50       54   \n",
       "2  2017/12/12   15:36:00.0  2668.50  2668.75  2668.50  2668.75      735   \n",
       "3  2017/12/12   15:39:00.0  2668.50  2669.00  2668.50  2668.75      566   \n",
       "4  2017/12/12   15:42:00.0  2668.75  2669.00  2668.50  2668.75      482   \n",
       "\n",
       "    NumberOfTrades   BidVolume   AskVolume  Delta  Range  \n",
       "0              242         600         672    -72   0.50  \n",
       "1               27           6          48    -42   0.25  \n",
       "2              207         305         430   -125   0.25  \n",
       "3              120         382         184    198   0.50  \n",
       "4               64         452          30    422   0.50  "
      ]
     },
     "execution_count": 40,
     "metadata": {},
     "output_type": "execute_result"
    }
   ],
   "source": [
    "#rechecking the head of our data\n",
    "es.head()"
   ]
  },
  {
   "cell_type": "markdown",
   "metadata": {},
   "source": [
    "Now we can create a scatter plot of our delta and the range of our data."
   ]
  },
  {
   "cell_type": "code",
   "execution_count": 12,
   "metadata": {
    "collapsed": false
   },
   "outputs": [
    {
     "data": {
      "text/plain": [
       "<seaborn.axisgrid.JointGrid at 0x16b7ee09470>"
      ]
     },
     "execution_count": 12,
     "metadata": {},
     "output_type": "execute_result"
    },
    {
     "data": {
      "image/png": "[encoded data removed]",
      "text/plain": [
       "<matplotlib.figure.Figure at 0x16b7ee09c18>"
      ]
     },
     "metadata": {},
     "output_type": "display_data"
    }
   ],
   "source": [
    "sns.jointplot(es['Delta'], es['Range'])\n"
   ]
  },
  {
   "cell_type": "markdown",
   "metadata": {},
   "source": [
    "Now let's take a look at the distribution of the number of trades per bar."
   ]
  },
  {
   "cell_type": "code",
   "execution_count": 13,
   "metadata": {
    "collapsed": false
   },
   "outputs": [
    {
     "data": {
      "text/plain": [
       "<matplotlib.axes._subplots.AxesSubplot at 0x16b7ef2bc18>"
      ]
     },
     "execution_count": 13,
     "metadata": {},
     "output_type": "execute_result"
    },
    {
     "data": {
      "image/png": "[encoded data removed]",
      "text/plain": [
       "<matplotlib.figure.Figure at 0x16b7f06df60>"
      ]
     },
     "metadata": {},
     "output_type": "display_data"
    }
   ],
   "source": [
    "#creating number of trades distribution\n",
    "sns.distplot(es[' NumberOfTrades'],bins=100)"
   ]
  },
  {
   "cell_type": "markdown",
   "metadata": {},
   "source": [
    "Now that we've gained some insight into our data from our exploratory data analysis, we're ready to create our intraday momentum strategy using the RSI indicator. We'll wrap our strategy in a class which allows us to create different instances of our strategy without having to rewrite the same logic."
   ]
  },
  {
   "cell_type": "code",
   "execution_count": 41,
   "metadata": {
    "collapsed": true
   },
   "outputs": [],
   "source": [
    "class rsi_strategy(object):\n",
    "    \n",
    "    def __init__(self,data,n,data_name,start,end):\n",
    "                        \n",
    "            self.data=data #the dataframe\n",
    "            self.n=n #the moving average\n",
    "            self.data_name=data_name #the name that will appear on plots\n",
    "            self.start=start #the beginning date of the sample period\n",
    "            self.end=end #the ending date of the sample period\n",
    "                                \n",
    "        \n",
    "    \n",
    "    def generate_signals(self):\n",
    "        \n",
    "        \n",
    "        delta=self.data[' Close'].diff()\n",
    "        dUp,dDown=delta.copy(),delta.copy()\n",
    "        dUp[dUp<0]=0\n",
    "        dDown[dDown>0]=0\n",
    "        RolUp=dUp.rolling(self.n).mean()\n",
    "        RolDown=dDown.rolling(self.n).mean()\n",
    "\n",
    "        #assigning indicator to the dataframe\n",
    "        self.data['RSI']=np.where(RolDown!=0, RolUp/RolDown,1)\n",
    "        self.data['RSI_Slow']=self.data['RSI'].rolling(self.n).mean()\n",
    "\n",
    "        #creating signals\n",
    "        self.data=self.data.assign(Signal=pd.Series(np.zeros(len(self.data))).values)\n",
    "        self.data.loc[self.data['RSI']<self.data['RSI_Slow'],'Signal']=1\n",
    "        self.data.loc[self.data['RSI']>self.data['RSI_Slow'], 'Signal']=-1\n",
    "            \n",
    "        return\n",
    "        \n",
    "    def plot_performance(self,allocation):\n",
    "        #intializing a variable for initial allocation\n",
    "        #to be used to create equity curve\n",
    "        self.allocation=allocation\n",
    "               \n",
    "        #creating returns and portfolio value series\n",
    "        self.data['Return']=np.log(self.data[' Close']/self.data[' Close'].shift(1))\n",
    "        self.data['S_Return']=self.data['Signal'].shift(1)*self.data['Return']\n",
    "        self.data['Market_Return']=self.data['Return'].expanding().sum()\n",
    "        self.data['Strategy_Return']=self.data['S_Return'].expanding().sum()\n",
    "        self.data['Portfolio Value']=((self.data['Strategy_Return']+1)*self.allocation)\n",
    "        \n",
    "        #creating metrics\n",
    "        self.data['Wins']=np.where(self.data['S_Return'] > 0,1,0)\n",
    "        self.data['Losses']=np.where(self.data['S_Return']<0,1,0)\n",
    "        self.data['Total Wins']=self.data['Wins'].sum()\n",
    "        self.data['Total Losses']=self.data['Losses'].sum()\n",
    "        self.data['Total Trades']=self.data['Total Wins'][0]+self.data['Total Losses'][0]\n",
    "        self.data['Hit Ratio']=round(self.data['Total Wins']/self.data['Total Losses'],2)\n",
    "        self.data['Win Pct']=round(self.data['Total Wins']/self.data['Total Trades'],2)\n",
    "        self.data['Loss Pct']=round(self.data['Total Losses']/self.data['Total Trades'],2)\n",
    "        \n",
    "        \n",
    "        \n",
    "        #Plotting the Performance of the RSI Strategy\n",
    "    \n",
    "        plt.plot(self.data['Market_Return'],color='black', label='Market Returns')\n",
    "        plt.plot(self.data['Strategy_Return'],color='blue', label= 'Strategy Returns')\n",
    "        plt.title('%s RSI Strategy Backtest'%(self.data_name))\n",
    "        plt.legend(loc=0)\n",
    "        plt.tight_layout()\n",
    "        plt.show()\n",
    "        \n",
    "        plt.plot(self.data['Portfolio Value'])\n",
    "        plt.title('%s Portfolio Value'%(self.data_name))\n",
    "        plt.show()"
   ]
  },
  {
   "cell_type": "markdown",
   "metadata": {},
   "source": [
    "Okay. Now let's try out our rsi_strategy class. "
   ]
  },
  {
   "cell_type": "code",
   "execution_count": 42,
   "metadata": {
    "collapsed": false
   },
   "outputs": [],
   "source": [
    "#creating an instance of our strategy class\n",
    "strat1=rsi_strategy(es,10,'ES',es['Date'][0],es['Date'].iloc[-1])\n"
   ]
  },
  {
   "cell_type": "markdown",
   "metadata": {},
   "source": [
    "Now that we have an instance of our RSI strategy, we can now call our generate signals and plot performance methods to see how our strategy performed."
   ]
  },
  {
   "cell_type": "code",
   "execution_count": 43,
   "metadata": {
    "collapsed": false
   },
   "outputs": [],
   "source": [
    "#generating signals\n",
    "strat1.generate_signals()\n"
   ]
  },
  {
   "cell_type": "code",
   "execution_count": 44,
   "metadata": {
    "collapsed": false
   },
   "outputs": [
    {
     "data": {
      "image/png": "[encoded data removed]",
      "text/plain": [
       "<matplotlib.figure.Figure at 0x16b7f8158d0>"
      ]
     },
     "metadata": {},
     "output_type": "display_data"
    },
    {
     "data": {
      "image/png": "[encoded data removed]",
      "text/plain": [
       "<matplotlib.figure.Figure at 0x16b7ee09be0>"
      ]
     },
     "metadata": {},
     "output_type": "display_data"
    }
   ],
   "source": [
    "#plotting performance of our strat1 strategy\n",
    "#passing in an allocation amount of $10,000\n",
    "strat1.plot_performance(10000)\n"
   ]
  },
  {
   "cell_type": "markdown",
   "metadata": {},
   "source": [
    "Now that we have built our strategy, we can check some of its metrics using functionality that we coded into our strategy class. We'll check our Hit Ratio, Win Percentage, and Loss Percentage."
   ]
  },
  {
   "cell_type": "code",
   "execution_count": 45,
   "metadata": {
    "collapsed": false
   },
   "outputs": [
    {
     "data": {
      "text/plain": [
       "0.93000000000000005"
      ]
     },
     "execution_count": 45,
     "metadata": {},
     "output_type": "execute_result"
    }
   ],
   "source": [
    "#checking our Hit Ratio\n",
    "strat1.data['Hit Ratio'][0]\n"
   ]
  },
  {
   "cell_type": "markdown",
   "metadata": {},
   "source": [
    "This Hit Ratio shows us that we our strategy currently has less than a 1-to-1 ratio between wins and losses. Let's now check our Win and Loss Percentages."
   ]
  },
  {
   "cell_type": "code",
   "execution_count": 46,
   "metadata": {
    "collapsed": false
   },
   "outputs": [
    {
     "name": "stdout",
     "output_type": "stream",
     "text": [
      "Strategy Win Percentage\n"
     ]
    },
    {
     "data": {
      "text/plain": [
       "0.47999999999999998"
      ]
     },
     "execution_count": 46,
     "metadata": {},
     "output_type": "execute_result"
    }
   ],
   "source": [
    "#checking our win percentage\n",
    "print('Strategy Win Percentage')\n",
    "strat1.data['Win Pct'][0]\n",
    "\n",
    "\n"
   ]
  },
  {
   "cell_type": "code",
   "execution_count": 47,
   "metadata": {
    "collapsed": false
   },
   "outputs": [
    {
     "name": "stdout",
     "output_type": "stream",
     "text": [
      "Strategy Loss Percentage\n"
     ]
    },
    {
     "data": {
      "text/plain": [
       "0.52000000000000002"
      ]
     },
     "execution_count": 47,
     "metadata": {},
     "output_type": "execute_result"
    }
   ],
   "source": [
    "#checking our loss percentage\n",
    "print('Strategy Loss Percentage')\n",
    "strat1.data['Loss Pct'][0]\n"
   ]
  },
  {
   "cell_type": "markdown",
   "metadata": {},
   "source": [
    "We can also check our total number of wins and losses as well as the total number of trades our strategy took."
   ]
  },
  {
   "cell_type": "code",
   "execution_count": 48,
   "metadata": {
    "collapsed": false
   },
   "outputs": [
    {
     "data": {
      "text/plain": [
       "10818"
      ]
     },
     "execution_count": 48,
     "metadata": {},
     "output_type": "execute_result"
    }
   ],
   "source": [
    "#checking total number of wins\n",
    "strat1.data['Total Wins'][0]"
   ]
  },
  {
   "cell_type": "code",
   "execution_count": 49,
   "metadata": {
    "collapsed": false
   },
   "outputs": [
    {
     "data": {
      "text/plain": [
       "11613"
      ]
     },
     "execution_count": 49,
     "metadata": {},
     "output_type": "execute_result"
    }
   ],
   "source": [
    "#checking total number of losses\n",
    "strat1.data['Total Losses'][0]"
   ]
  },
  {
   "cell_type": "code",
   "execution_count": 50,
   "metadata": {
    "collapsed": false
   },
   "outputs": [
    {
     "data": {
      "text/plain": [
       "22431"
      ]
     },
     "execution_count": 50,
     "metadata": {},
     "output_type": "execute_result"
    }
   ],
   "source": [
    "#checking total number of trades\n",
    "strat1.data['Total Trades'][0]"
   ]
  },
  {
   "cell_type": "markdown",
   "metadata": {},
   "source": [
    "At this point we've conducted exploratory data analysis on our data, created our intraday momentum strategy and viewed the metrics of our strategy. Our strategy currently has a Hit Ratio of little less than 1. Our win percentage is approximately 48% and our loss percentage is 52%. At face value, this isn't very impressive. "
   ]
  },
  {
   "cell_type": "markdown",
   "metadata": {},
   "source": [
    "How can we improve our strategy so that we actually can profit from it? "
   ]
  },
  {
   "cell_type": "markdown",
   "metadata": {},
   "source": [
    "Even though we tend to lose slightly more than we win, if we can effectively eliminate some of our losing trades, we can in turn recalibrate our win/loss percentages and hit ratio. In other words, our winning trades aren't the problem. It's actually better to win 48% of the time than to win some amount less than 48% of time. The problem is that given the distribution of our total trades, we don't win enough. What if we were to virtually eliminate all of our losing trades? We would trade a lot less, but our win percentage would skyrocket and thus allow us to trade our strategy profitably. "
   ]
  },
  {
   "cell_type": "markdown",
   "metadata": {},
   "source": [
    "Properly identifying the problem or task is a key skill in any machine learning application. We will use QDA to improve upon our existing strategy. Our objective is to be able to predict when our strategy is likely to take a losing trade before it takes it so that we can eliminate losing trades and thus rebalance our win loss percentages back in our favor. Sounds interesting! Let's get to it!"
   ]
  },
  {
   "cell_type": "markdown",
   "metadata": {},
   "source": [
    "# Optimizing the Intraday Momentum Strategy Using QDA"
   ]
  },
  {
   "cell_type": "markdown",
   "metadata": {},
   "source": [
    "Now we will use QDA as a means of improving our intraday momentum strategy. Let's start by importing the necessary libraries from sklearn."
   ]
  },
  {
   "cell_type": "code",
   "execution_count": 51,
   "metadata": {
    "collapsed": true
   },
   "outputs": [],
   "source": [
    "from sklearn.discriminant_analysis import QuadraticDiscriminantAnalysis\n",
    "from sklearn.metrics import confusion_matrix, classification_report"
   ]
  },
  {
   "cell_type": "markdown",
   "metadata": {},
   "source": [
    "We need a way to determine when we are likely to place a losing trade. Hmmm... How about we add a categorical return column to our data. We can then do a bit of feature engineering and use our QDA classifier to predict the categorical return values. Once we've completed this, we can then test out our idea by feeding our strategy our predictions and seeing if this improves the performance of our strategy."
   ]
  },
  {
   "cell_type": "markdown",
   "metadata": {},
   "source": [
    "We'll start by making a copy of our strategy dataframe. Recall, this is the dataframe created when we built our initial implementation of our strategy."
   ]
  },
  {
   "cell_type": "code",
   "execution_count": 52,
   "metadata": {
    "collapsed": false
   },
   "outputs": [],
   "source": [
    "df=strat1.data\n"
   ]
  },
  {
   "cell_type": "markdown",
   "metadata": {},
   "source": [
    "Let's check the head of our dataframe."
   ]
  },
  {
   "cell_type": "code",
   "execution_count": 53,
   "metadata": {
    "collapsed": false
   },
   "outputs": [
    {
     "data": {
      "text/html": [
       "<div>\n",
       "<style scoped>\n",
       "    .dataframe tbody tr th:only-of-type {\n",
       "        vertical-align: middle;\n",
       "    }\n",
       "\n",
       "    .dataframe tbody tr th {\n",
       "        vertical-align: top;\n",
       "    }\n",
       "\n",
       "    .dataframe thead th {\n",
       "        text-align: right;\n",
       "    }\n",
       "</style>\n",
       "<table border=\"1\" class=\"dataframe\">\n",
       "  <thead>\n",
       "    <tr style=\"text-align: right;\">\n",
       "      <th></th>\n",
       "      <th>Date</th>\n",
       "      <th>Time</th>\n",
       "      <th>Open</th>\n",
       "      <th>High</th>\n",
       "      <th>Low</th>\n",
       "      <th>Close</th>\n",
       "      <th>Volume</th>\n",
       "      <th>NumberOfTrades</th>\n",
       "      <th>BidVolume</th>\n",
       "      <th>AskVolume</th>\n",
       "      <th>...</th>\n",
       "      <th>Strategy_Return</th>\n",
       "      <th>Portfolio Value</th>\n",
       "      <th>Wins</th>\n",
       "      <th>Losses</th>\n",
       "      <th>Total Wins</th>\n",
       "      <th>Total Losses</th>\n",
       "      <th>Total Trades</th>\n",
       "      <th>Hit Ratio</th>\n",
       "      <th>Win Pct</th>\n",
       "      <th>Loss Pct</th>\n",
       "    </tr>\n",
       "  </thead>\n",
       "  <tbody>\n",
       "    <tr>\n",
       "      <th>0</th>\n",
       "      <td>2017/12/12</td>\n",
       "      <td>15:30:00.0</td>\n",
       "      <td>2668.25</td>\n",
       "      <td>2668.75</td>\n",
       "      <td>2668.25</td>\n",
       "      <td>2668.50</td>\n",
       "      <td>1272</td>\n",
       "      <td>242</td>\n",
       "      <td>600</td>\n",
       "      <td>672</td>\n",
       "      <td>...</td>\n",
       "      <td>NaN</td>\n",
       "      <td>NaN</td>\n",
       "      <td>0</td>\n",
       "      <td>0</td>\n",
       "      <td>10818</td>\n",
       "      <td>11613</td>\n",
       "      <td>22431</td>\n",
       "      <td>0.93</td>\n",
       "      <td>0.48</td>\n",
       "      <td>0.52</td>\n",
       "    </tr>\n",
       "    <tr>\n",
       "      <th>1</th>\n",
       "      <td>2017/12/12</td>\n",
       "      <td>15:33:00.0</td>\n",
       "      <td>2668.50</td>\n",
       "      <td>2668.50</td>\n",
       "      <td>2668.25</td>\n",
       "      <td>2668.50</td>\n",
       "      <td>54</td>\n",
       "      <td>27</td>\n",
       "      <td>6</td>\n",
       "      <td>48</td>\n",
       "      <td>...</td>\n",
       "      <td>0.0</td>\n",
       "      <td>10000.0</td>\n",
       "      <td>0</td>\n",
       "      <td>0</td>\n",
       "      <td>10818</td>\n",
       "      <td>11613</td>\n",
       "      <td>22431</td>\n",
       "      <td>0.93</td>\n",
       "      <td>0.48</td>\n",
       "      <td>0.52</td>\n",
       "    </tr>\n",
       "    <tr>\n",
       "      <th>2</th>\n",
       "      <td>2017/12/12</td>\n",
       "      <td>15:36:00.0</td>\n",
       "      <td>2668.50</td>\n",
       "      <td>2668.75</td>\n",
       "      <td>2668.50</td>\n",
       "      <td>2668.75</td>\n",
       "      <td>735</td>\n",
       "      <td>207</td>\n",
       "      <td>305</td>\n",
       "      <td>430</td>\n",
       "      <td>...</td>\n",
       "      <td>0.0</td>\n",
       "      <td>10000.0</td>\n",
       "      <td>0</td>\n",
       "      <td>0</td>\n",
       "      <td>10818</td>\n",
       "      <td>11613</td>\n",
       "      <td>22431</td>\n",
       "      <td>0.93</td>\n",
       "      <td>0.48</td>\n",
       "      <td>0.52</td>\n",
       "    </tr>\n",
       "    <tr>\n",
       "      <th>3</th>\n",
       "      <td>2017/12/12</td>\n",
       "      <td>15:39:00.0</td>\n",
       "      <td>2668.50</td>\n",
       "      <td>2669.00</td>\n",
       "      <td>2668.50</td>\n",
       "      <td>2668.75</td>\n",
       "      <td>566</td>\n",
       "      <td>120</td>\n",
       "      <td>382</td>\n",
       "      <td>184</td>\n",
       "      <td>...</td>\n",
       "      <td>0.0</td>\n",
       "      <td>10000.0</td>\n",
       "      <td>0</td>\n",
       "      <td>0</td>\n",
       "      <td>10818</td>\n",
       "      <td>11613</td>\n",
       "      <td>22431</td>\n",
       "      <td>0.93</td>\n",
       "      <td>0.48</td>\n",
       "      <td>0.52</td>\n",
       "    </tr>\n",
       "    <tr>\n",
       "      <th>4</th>\n",
       "      <td>2017/12/12</td>\n",
       "      <td>15:42:00.0</td>\n",
       "      <td>2668.75</td>\n",
       "      <td>2669.00</td>\n",
       "      <td>2668.50</td>\n",
       "      <td>2668.75</td>\n",
       "      <td>482</td>\n",
       "      <td>64</td>\n",
       "      <td>452</td>\n",
       "      <td>30</td>\n",
       "      <td>...</td>\n",
       "      <td>0.0</td>\n",
       "      <td>10000.0</td>\n",
       "      <td>0</td>\n",
       "      <td>0</td>\n",
       "      <td>10818</td>\n",
       "      <td>11613</td>\n",
       "      <td>22431</td>\n",
       "      <td>0.93</td>\n",
       "      <td>0.48</td>\n",
       "      <td>0.52</td>\n",
       "    </tr>\n",
       "  </tbody>\n",
       "</table>\n",
       "<p>5 rows × 28 columns</p>\n",
       "</div>"
      ],
      "text/plain": [
       "         Date         Time     Open     High      Low    Close   Volume  \\\n",
       "0  2017/12/12   15:30:00.0  2668.25  2668.75  2668.25  2668.50     1272   \n",
       "1  2017/12/12   15:33:00.0  2668.50  2668.50  2668.25  2668.50       54   \n",
       "2  2017/12/12   15:36:00.0  2668.50  2668.75  2668.50  2668.75      735   \n",
       "3  2017/12/12   15:39:00.0  2668.50  2669.00  2668.50  2668.75      566   \n",
       "4  2017/12/12   15:42:00.0  2668.75  2669.00  2668.50  2668.75      482   \n",
       "\n",
       "    NumberOfTrades   BidVolume   AskVolume    ...     Strategy_Return  \\\n",
       "0              242         600         672    ...                 NaN   \n",
       "1               27           6          48    ...                 0.0   \n",
       "2              207         305         430    ...                 0.0   \n",
       "3              120         382         184    ...                 0.0   \n",
       "4               64         452          30    ...                 0.0   \n",
       "\n",
       "   Portfolio Value  Wins  Losses  Total Wins  Total Losses  Total Trades  \\\n",
       "0              NaN     0       0       10818         11613         22431   \n",
       "1          10000.0     0       0       10818         11613         22431   \n",
       "2          10000.0     0       0       10818         11613         22431   \n",
       "3          10000.0     0       0       10818         11613         22431   \n",
       "4          10000.0     0       0       10818         11613         22431   \n",
       "\n",
       "   Hit Ratio  Win Pct  Loss Pct  \n",
       "0       0.93     0.48      0.52  \n",
       "1       0.93     0.48      0.52  \n",
       "2       0.93     0.48      0.52  \n",
       "3       0.93     0.48      0.52  \n",
       "4       0.93     0.48      0.52  \n",
       "\n",
       "[5 rows x 28 columns]"
      ]
     },
     "execution_count": 53,
     "metadata": {},
     "output_type": "execute_result"
    }
   ],
   "source": [
    "df.head()"
   ]
  },
  {
   "cell_type": "markdown",
   "metadata": {},
   "source": [
    "Now let's add our categorial return column."
   ]
  },
  {
   "cell_type": "code",
   "execution_count": 54,
   "metadata": {
    "collapsed": false
   },
   "outputs": [],
   "source": [
    "#adding column to hold direction of returns\n",
    "df['Return Direction']=np.where(df['Strategy_Return']>0,'Up',np.where(df['Strategy_Return']<0,'Down',\"Flat\"))"
   ]
  },
  {
   "cell_type": "markdown",
   "metadata": {},
   "source": [
    "Let's call our head and tail methods on our Return Direction column."
   ]
  },
  {
   "cell_type": "code",
   "execution_count": 55,
   "metadata": {
    "collapsed": false
   },
   "outputs": [
    {
     "data": {
      "text/plain": [
       "0    Flat\n",
       "1    Flat\n",
       "2    Flat\n",
       "3    Flat\n",
       "4    Flat\n",
       "Name: Return Direction, dtype: object"
      ]
     },
     "execution_count": 55,
     "metadata": {},
     "output_type": "execute_result"
    }
   ],
   "source": [
    "df['Return Direction'].head()"
   ]
  },
  {
   "cell_type": "code",
   "execution_count": 56,
   "metadata": {
    "collapsed": false
   },
   "outputs": [
    {
     "data": {
      "text/plain": [
       "28022    Down\n",
       "28023    Down\n",
       "28024    Down\n",
       "28025    Down\n",
       "28026    Down\n",
       "Name: Return Direction, dtype: object"
      ]
     },
     "execution_count": 56,
     "metadata": {},
     "output_type": "execute_result"
    }
   ],
   "source": [
    "df['Return Direction'].tail()"
   ]
  },
  {
   "cell_type": "markdown",
   "metadata": {},
   "source": [
    "Now that we have added the Return Direction column we can begin thinking about what features we should use to predict the probability of our strategy making losses. We can use volatility of the underlying as it should have some effect on our strategy. We could also use different lags of volatility to capture the evolution of momentum. We can also use our RSI indicator. Okay. Let's go with these and add them to our dataframe."
   ]
  },
  {
   "cell_type": "markdown",
   "metadata": {},
   "source": [
    "You may be wondering why we aren't using our signal generator. We want to train our model in a way that we can apply it to any market environment. At any given time, under a variety of market conditions, our longs and shorts could be distributed differently. For example, if we're in a bull market, we're more likely to get more long than short signals. We're also more likely to have a greater degree of profitability on our long trades versus our short trades. If we train our model to predict our losing trades on our signal generator over this period, it will associate long signals with increasing returns and short signals with decreasing returns. While this may be true at the moment, in the future when we enter a bear market, the model will have high bias and not be predictive of our losing trades."
   ]
  },
  {
   "cell_type": "code",
   "execution_count": 57,
   "metadata": {
    "collapsed": true
   },
   "outputs": [],
   "source": [
    "#adding our features\n",
    "#creating volatility\n",
    "strat1.data['Vol']=strat1.data[' Close'].rolling(window=5).std()\n",
    "\n",
    "#creating lags of volatility\n",
    "strat1.data['Vol Lag 3']=strat1.data['Vol'].shift(3)\n",
    "strat1.data['Vol Lag 4']=strat1.data['Vol'].shift(4)\n",
    "strat1.data['Vol Lag 5']=strat1.data['Vol'].shift(5)\n",
    "\n"
   ]
  },
  {
   "cell_type": "markdown",
   "metadata": {},
   "source": [
    "Okay let's pause for a second and make sure we understand what's happening here. We began by conducting some exploratory data analysis on our intraday data. Our goal was to create an intraday trading strategy using the RSI indicator. We built a class that allowed us to create an instance of our momentum strategy. We were'nt so thrilled about our strategy's performance but we did recognize that it had some potential."
   ]
  },
  {
   "cell_type": "markdown",
   "metadata": {},
   "source": [
    "Our strategy currently has a win/loss ratio of just under 1. It currently wins 48% of the time and loses 52% of the time. Our premise is that if we can eliminate some of our losing trades, and thus reduce some of the trades that we take, we could shift the probability of our strategy being profitable in our favor. The fact that we only win 48% of the time is not the real issue. If we could only take those trades, while we would cut our total trades in half, we would have a perfect (theoretically) strategy. In other words, we need a quantitative way of improving our strategy so that it can actually be used in production."
   ]
  },
  {
   "cell_type": "markdown",
   "metadata": {},
   "source": [
    "In order to achieve our goal, we must be able to predict when our strategy is likely to take a trade that is probable of making a loss. Thus, we created the Return Direction column to track whether we had a win or a losing trade. We needed features that we could use in our model for training that could provide some indication of the probability of losing trades. We chose volatility lags and our RSI and in the above block of code we added volatility and its lags. Notice that we did this on \"strat1.data\" instead of our \"es\" dataframe. strat1.data is the dataframe that we created when we made the strat1 instance of our momentum strategy. We're simply calling the \"data\" dataframe that was created within our class and storing our features in it. The purpose of doing this is because we are optimizing our strat1 momentum strategy which holds our returns. Recall our es dataframe only holds the data that we passed into our strategy."
   ]
  },
  {
   "cell_type": "markdown",
   "metadata": {},
   "source": [
    "Once we create our QDA model, we can store its predictions in a copy of our es dataframe and then create a second momentum strategy instance and compare the results. We will need to alter our class a bit so that it will read our predictions before it takes a trade. So essentially, our strategy will only trade when our QDA model predicts that the trade is not likely to be a losing trade."
   ]
  },
  {
   "cell_type": "markdown",
   "metadata": {},
   "source": [
    "Now that we have our features, we can initialize our X and y variables and conduct our train test split. Let's make a copy of our strat1.data dataframe and check its head."
   ]
  },
  {
   "cell_type": "code",
   "execution_count": 58,
   "metadata": {
    "collapsed": true
   },
   "outputs": [],
   "source": [
    "#copying our strategy dataframe\n",
    "df=strat1.data.copy()"
   ]
  },
  {
   "cell_type": "code",
   "execution_count": 59,
   "metadata": {
    "collapsed": false
   },
   "outputs": [
    {
     "data": {
      "text/html": [
       "<div>\n",
       "<style scoped>\n",
       "    .dataframe tbody tr th:only-of-type {\n",
       "        vertical-align: middle;\n",
       "    }\n",
       "\n",
       "    .dataframe tbody tr th {\n",
       "        vertical-align: top;\n",
       "    }\n",
       "\n",
       "    .dataframe thead th {\n",
       "        text-align: right;\n",
       "    }\n",
       "</style>\n",
       "<table border=\"1\" class=\"dataframe\">\n",
       "  <thead>\n",
       "    <tr style=\"text-align: right;\">\n",
       "      <th></th>\n",
       "      <th>Date</th>\n",
       "      <th>Time</th>\n",
       "      <th>Open</th>\n",
       "      <th>High</th>\n",
       "      <th>Low</th>\n",
       "      <th>Close</th>\n",
       "      <th>Volume</th>\n",
       "      <th>NumberOfTrades</th>\n",
       "      <th>BidVolume</th>\n",
       "      <th>AskVolume</th>\n",
       "      <th>...</th>\n",
       "      <th>Total Losses</th>\n",
       "      <th>Total Trades</th>\n",
       "      <th>Hit Ratio</th>\n",
       "      <th>Win Pct</th>\n",
       "      <th>Loss Pct</th>\n",
       "      <th>Return Direction</th>\n",
       "      <th>Vol</th>\n",
       "      <th>Vol Lag 3</th>\n",
       "      <th>Vol Lag 4</th>\n",
       "      <th>Vol Lag 5</th>\n",
       "    </tr>\n",
       "  </thead>\n",
       "  <tbody>\n",
       "    <tr>\n",
       "      <th>0</th>\n",
       "      <td>2017/12/12</td>\n",
       "      <td>15:30:00.0</td>\n",
       "      <td>2668.25</td>\n",
       "      <td>2668.75</td>\n",
       "      <td>2668.25</td>\n",
       "      <td>2668.50</td>\n",
       "      <td>1272</td>\n",
       "      <td>242</td>\n",
       "      <td>600</td>\n",
       "      <td>672</td>\n",
       "      <td>...</td>\n",
       "      <td>11613</td>\n",
       "      <td>22431</td>\n",
       "      <td>0.93</td>\n",
       "      <td>0.48</td>\n",
       "      <td>0.52</td>\n",
       "      <td>Flat</td>\n",
       "      <td>NaN</td>\n",
       "      <td>NaN</td>\n",
       "      <td>NaN</td>\n",
       "      <td>NaN</td>\n",
       "    </tr>\n",
       "    <tr>\n",
       "      <th>1</th>\n",
       "      <td>2017/12/12</td>\n",
       "      <td>15:33:00.0</td>\n",
       "      <td>2668.50</td>\n",
       "      <td>2668.50</td>\n",
       "      <td>2668.25</td>\n",
       "      <td>2668.50</td>\n",
       "      <td>54</td>\n",
       "      <td>27</td>\n",
       "      <td>6</td>\n",
       "      <td>48</td>\n",
       "      <td>...</td>\n",
       "      <td>11613</td>\n",
       "      <td>22431</td>\n",
       "      <td>0.93</td>\n",
       "      <td>0.48</td>\n",
       "      <td>0.52</td>\n",
       "      <td>Flat</td>\n",
       "      <td>NaN</td>\n",
       "      <td>NaN</td>\n",
       "      <td>NaN</td>\n",
       "      <td>NaN</td>\n",
       "    </tr>\n",
       "    <tr>\n",
       "      <th>2</th>\n",
       "      <td>2017/12/12</td>\n",
       "      <td>15:36:00.0</td>\n",
       "      <td>2668.50</td>\n",
       "      <td>2668.75</td>\n",
       "      <td>2668.50</td>\n",
       "      <td>2668.75</td>\n",
       "      <td>735</td>\n",
       "      <td>207</td>\n",
       "      <td>305</td>\n",
       "      <td>430</td>\n",
       "      <td>...</td>\n",
       "      <td>11613</td>\n",
       "      <td>22431</td>\n",
       "      <td>0.93</td>\n",
       "      <td>0.48</td>\n",
       "      <td>0.52</td>\n",
       "      <td>Flat</td>\n",
       "      <td>NaN</td>\n",
       "      <td>NaN</td>\n",
       "      <td>NaN</td>\n",
       "      <td>NaN</td>\n",
       "    </tr>\n",
       "    <tr>\n",
       "      <th>3</th>\n",
       "      <td>2017/12/12</td>\n",
       "      <td>15:39:00.0</td>\n",
       "      <td>2668.50</td>\n",
       "      <td>2669.00</td>\n",
       "      <td>2668.50</td>\n",
       "      <td>2668.75</td>\n",
       "      <td>566</td>\n",
       "      <td>120</td>\n",
       "      <td>382</td>\n",
       "      <td>184</td>\n",
       "      <td>...</td>\n",
       "      <td>11613</td>\n",
       "      <td>22431</td>\n",
       "      <td>0.93</td>\n",
       "      <td>0.48</td>\n",
       "      <td>0.52</td>\n",
       "      <td>Flat</td>\n",
       "      <td>NaN</td>\n",
       "      <td>NaN</td>\n",
       "      <td>NaN</td>\n",
       "      <td>NaN</td>\n",
       "    </tr>\n",
       "    <tr>\n",
       "      <th>4</th>\n",
       "      <td>2017/12/12</td>\n",
       "      <td>15:42:00.0</td>\n",
       "      <td>2668.75</td>\n",
       "      <td>2669.00</td>\n",
       "      <td>2668.50</td>\n",
       "      <td>2668.75</td>\n",
       "      <td>482</td>\n",
       "      <td>64</td>\n",
       "      <td>452</td>\n",
       "      <td>30</td>\n",
       "      <td>...</td>\n",
       "      <td>11613</td>\n",
       "      <td>22431</td>\n",
       "      <td>0.93</td>\n",
       "      <td>0.48</td>\n",
       "      <td>0.52</td>\n",
       "      <td>Flat</td>\n",
       "      <td>0.136931</td>\n",
       "      <td>NaN</td>\n",
       "      <td>NaN</td>\n",
       "      <td>NaN</td>\n",
       "    </tr>\n",
       "  </tbody>\n",
       "</table>\n",
       "<p>5 rows × 33 columns</p>\n",
       "</div>"
      ],
      "text/plain": [
       "         Date         Time     Open     High      Low    Close   Volume  \\\n",
       "0  2017/12/12   15:30:00.0  2668.25  2668.75  2668.25  2668.50     1272   \n",
       "1  2017/12/12   15:33:00.0  2668.50  2668.50  2668.25  2668.50       54   \n",
       "2  2017/12/12   15:36:00.0  2668.50  2668.75  2668.50  2668.75      735   \n",
       "3  2017/12/12   15:39:00.0  2668.50  2669.00  2668.50  2668.75      566   \n",
       "4  2017/12/12   15:42:00.0  2668.75  2669.00  2668.50  2668.75      482   \n",
       "\n",
       "    NumberOfTrades   BidVolume   AskVolume    ...      Total Losses  \\\n",
       "0              242         600         672    ...             11613   \n",
       "1               27           6          48    ...             11613   \n",
       "2              207         305         430    ...             11613   \n",
       "3              120         382         184    ...             11613   \n",
       "4               64         452          30    ...             11613   \n",
       "\n",
       "   Total Trades  Hit Ratio  Win Pct  Loss Pct  Return Direction       Vol  \\\n",
       "0         22431       0.93     0.48      0.52              Flat       NaN   \n",
       "1         22431       0.93     0.48      0.52              Flat       NaN   \n",
       "2         22431       0.93     0.48      0.52              Flat       NaN   \n",
       "3         22431       0.93     0.48      0.52              Flat       NaN   \n",
       "4         22431       0.93     0.48      0.52              Flat  0.136931   \n",
       "\n",
       "   Vol Lag 3  Vol Lag 4  Vol Lag 5  \n",
       "0        NaN        NaN        NaN  \n",
       "1        NaN        NaN        NaN  \n",
       "2        NaN        NaN        NaN  \n",
       "3        NaN        NaN        NaN  \n",
       "4        NaN        NaN        NaN  \n",
       "\n",
       "[5 rows x 33 columns]"
      ]
     },
     "execution_count": 59,
     "metadata": {},
     "output_type": "execute_result"
    }
   ],
   "source": [
    "#checking the head of our df dataframe\n",
    "df.head()"
   ]
  },
  {
   "cell_type": "markdown",
   "metadata": {},
   "source": [
    "To ensure that we use all the appropriate columns, let's call the info method on our dataframe."
   ]
  },
  {
   "cell_type": "code",
   "execution_count": 194,
   "metadata": {
    "collapsed": false
   },
   "outputs": [
    {
     "name": "stdout",
     "output_type": "stream",
     "text": [
      "<class 'pandas.core.frame.DataFrame'>\n",
      "RangeIndex: 28027 entries, 0 to 28026\n",
      "Data columns (total 33 columns):\n",
      "Date                28027 non-null object\n",
      " Time               28027 non-null object\n",
      " Open               28027 non-null float64\n",
      " High               28027 non-null float64\n",
      " Low                28027 non-null float64\n",
      " Close              28027 non-null float64\n",
      " Volume             28027 non-null int64\n",
      " NumberOfTrades     28027 non-null int64\n",
      " BidVolume          28027 non-null int64\n",
      " AskVolume          28027 non-null int64\n",
      "Delta               28027 non-null int64\n",
      "Range               28027 non-null float64\n",
      "RSI                 28017 non-null float64\n",
      "RSI_Slow            28008 non-null float64\n",
      "Signal              28027 non-null float64\n",
      "Return              28026 non-null float64\n",
      "S_Return            28026 non-null float64\n",
      "Market_Return       28026 non-null float64\n",
      "Strategy_Return     28026 non-null float64\n",
      "Portfolio Value     28026 non-null float64\n",
      "Wins                28027 non-null int32\n",
      "Losses              28027 non-null int32\n",
      "Total Wins          28027 non-null int64\n",
      "Total Losses        28027 non-null int64\n",
      "Total Trades        28027 non-null int64\n",
      "Hit Ratio           28027 non-null float64\n",
      "Win Pct             28027 non-null float64\n",
      "Loss Pct            28027 non-null float64\n",
      "Return Direction    28027 non-null object\n",
      "Vol                 28023 non-null float64\n",
      "Vol Lag 3           28020 non-null float64\n",
      "Vol Lag 4           28019 non-null float64\n",
      "Vol Lag 5           28018 non-null float64\n",
      "dtypes: float64(20), int32(2), int64(8), object(3)\n",
      "memory usage: 6.8+ MB\n"
     ]
    }
   ],
   "source": [
    "df.info()"
   ]
  },
  {
   "cell_type": "markdown",
   "metadata": {},
   "source": [
    "Now we can clearly see all of our columns. Our X, or features will be our lags of volatility and RSI and our y or response will be our return direction column. We can now initialize our variables."
   ]
  },
  {
   "cell_type": "code",
   "execution_count": 60,
   "metadata": {
    "collapsed": false
   },
   "outputs": [],
   "source": [
    "#initializing features\n",
    "X=df[['Vol Lag 3','Vol Lag 4','Vol Lag 5', 'RSI']]"
   ]
  },
  {
   "cell_type": "code",
   "execution_count": 61,
   "metadata": {
    "collapsed": false
   },
   "outputs": [],
   "source": [
    "#initialing our response\n",
    "y=df['Return Direction']"
   ]
  },
  {
   "cell_type": "code",
   "execution_count": 62,
   "metadata": {
    "collapsed": false
   },
   "outputs": [
    {
     "data": {
      "text/html": [
       "<div>\n",
       "<style scoped>\n",
       "    .dataframe tbody tr th:only-of-type {\n",
       "        vertical-align: middle;\n",
       "    }\n",
       "\n",
       "    .dataframe tbody tr th {\n",
       "        vertical-align: top;\n",
       "    }\n",
       "\n",
       "    .dataframe thead th {\n",
       "        text-align: right;\n",
       "    }\n",
       "</style>\n",
       "<table border=\"1\" class=\"dataframe\">\n",
       "  <thead>\n",
       "    <tr style=\"text-align: right;\">\n",
       "      <th></th>\n",
       "      <th>Vol Lag 3</th>\n",
       "      <th>Vol Lag 4</th>\n",
       "      <th>Vol Lag 5</th>\n",
       "      <th>RSI</th>\n",
       "    </tr>\n",
       "  </thead>\n",
       "  <tbody>\n",
       "    <tr>\n",
       "      <th>0</th>\n",
       "      <td>NaN</td>\n",
       "      <td>NaN</td>\n",
       "      <td>NaN</td>\n",
       "      <td>NaN</td>\n",
       "    </tr>\n",
       "    <tr>\n",
       "      <th>1</th>\n",
       "      <td>NaN</td>\n",
       "      <td>NaN</td>\n",
       "      <td>NaN</td>\n",
       "      <td>NaN</td>\n",
       "    </tr>\n",
       "    <tr>\n",
       "      <th>2</th>\n",
       "      <td>NaN</td>\n",
       "      <td>NaN</td>\n",
       "      <td>NaN</td>\n",
       "      <td>NaN</td>\n",
       "    </tr>\n",
       "    <tr>\n",
       "      <th>3</th>\n",
       "      <td>NaN</td>\n",
       "      <td>NaN</td>\n",
       "      <td>NaN</td>\n",
       "      <td>NaN</td>\n",
       "    </tr>\n",
       "    <tr>\n",
       "      <th>4</th>\n",
       "      <td>NaN</td>\n",
       "      <td>NaN</td>\n",
       "      <td>NaN</td>\n",
       "      <td>NaN</td>\n",
       "    </tr>\n",
       "  </tbody>\n",
       "</table>\n",
       "</div>"
      ],
      "text/plain": [
       "   Vol Lag 3  Vol Lag 4  Vol Lag 5  RSI\n",
       "0        NaN        NaN        NaN  NaN\n",
       "1        NaN        NaN        NaN  NaN\n",
       "2        NaN        NaN        NaN  NaN\n",
       "3        NaN        NaN        NaN  NaN\n",
       "4        NaN        NaN        NaN  NaN"
      ]
     },
     "execution_count": 62,
     "metadata": {},
     "output_type": "execute_result"
    }
   ],
   "source": [
    "#checking the head of our features\n",
    "X.head()"
   ]
  },
  {
   "cell_type": "markdown",
   "metadata": {},
   "source": [
    "We can now split our data into training and testing sets. We'll import train_test_split from sklearn to do this."
   ]
  },
  {
   "cell_type": "code",
   "execution_count": 26,
   "metadata": {
    "collapsed": false
   },
   "outputs": [],
   "source": [
    "from sklearn.model_selection import train_test_split"
   ]
  },
  {
   "cell_type": "markdown",
   "metadata": {},
   "source": [
    "Now we're ready to use our train_test_split method."
   ]
  },
  {
   "cell_type": "code",
   "execution_count": 63,
   "metadata": {
    "collapsed": false
   },
   "outputs": [],
   "source": [
    "#initializing training and testing variables\n",
    "X_train,X_test,y_train,y_test=train_test_split(X,y,test_size=0.2)"
   ]
  },
  {
   "cell_type": "markdown",
   "metadata": {},
   "source": [
    "Now that we have split our data into an 80/20 train test split, we can initialize our QDA model and fit it to our data."
   ]
  },
  {
   "cell_type": "code",
   "execution_count": 64,
   "metadata": {
    "collapsed": true
   },
   "outputs": [],
   "source": [
    "model=QuadraticDiscriminantAnalysis()"
   ]
  },
  {
   "cell_type": "markdown",
   "metadata": {},
   "source": [
    "Before we fit our training data, we'll need to fill the null values."
   ]
  },
  {
   "cell_type": "code",
   "execution_count": 66,
   "metadata": {
    "collapsed": false
   },
   "outputs": [
    {
     "data": {
      "text/plain": [
       "QuadraticDiscriminantAnalysis(priors=None, reg_param=0.0,\n",
       "               store_covariances=False, tol=0.0001)"
      ]
     },
     "execution_count": 66,
     "metadata": {},
     "output_type": "execute_result"
    }
   ],
   "source": [
    "#fitting model to our training data\n",
    "#and filling null values with 0\n",
    "model.fit(X_train.fillna(0),y_train)"
   ]
  },
  {
   "cell_type": "markdown",
   "metadata": {},
   "source": [
    "Now that we have fitted our model, we can use it to make predictions by passing in our X_test data. This data are our features that our model hasn't seen yet. We can then compare the predictions made by our model to the y_test data, or the actual values of our responses"
   ]
  },
  {
   "cell_type": "code",
   "execution_count": 203,
   "metadata": {
    "collapsed": true
   },
   "outputs": [],
   "source": [
    "#creating predictions\n",
    "predictions=model.predict(X_test.fillna(0))"
   ]
  },
  {
   "cell_type": "markdown",
   "metadata": {},
   "source": [
    "Now we will use our confusion matrix and classification report to assess how well our model did."
   ]
  },
  {
   "cell_type": "code",
   "execution_count": 204,
   "metadata": {
    "collapsed": false
   },
   "outputs": [
    {
     "name": "stdout",
     "output_type": "stream",
     "text": [
      "Confusion Matrix:\n",
      "[[4902    6  242]\n",
      " [   2    0    0]\n",
      " [ 399    0   55]]\n"
     ]
    }
   ],
   "source": [
    "#initializing confusion matrix\n",
    "print('Confusion Matrix:')\n",
    "print(confusion_matrix(y_test,predictions))"
   ]
  },
  {
   "cell_type": "code",
   "execution_count": 205,
   "metadata": {
    "collapsed": false
   },
   "outputs": [
    {
     "name": "stdout",
     "output_type": "stream",
     "text": [
      "Classification Report\n",
      "             precision    recall  f1-score   support\n",
      "\n",
      "       Down       0.92      0.95      0.94      5150\n",
      "       Flat       0.00      0.00      0.00         2\n",
      "         Up       0.19      0.12      0.15       454\n",
      "\n",
      "avg / total       0.86      0.88      0.87      5606\n",
      "\n"
     ]
    }
   ],
   "source": [
    "#initializing classification report\n",
    "print('Classification Report')\n",
    "print(classification_report(y_test,predictions))"
   ]
  },
  {
   "cell_type": "markdown",
   "metadata": {},
   "source": [
    "Wow! Our model is able to predict losing trades at an accuracy of 92%."
   ]
  },
  {
   "cell_type": "markdown",
   "metadata": {},
   "source": [
    "We can now add our predictions back to our es dataframe and then pass it back into our rsi_strategy class to create a strat2 instance and compare our metrics to our strat1 metrics."
   ]
  },
  {
   "cell_type": "markdown",
   "metadata": {},
   "source": [
    "Before adding our predictions to our es dataframe, let's recheck it. We'll call the head method on our dataframe."
   ]
  },
  {
   "cell_type": "code",
   "execution_count": 206,
   "metadata": {
    "collapsed": false
   },
   "outputs": [
    {
     "data": {
      "text/html": [
       "<div>\n",
       "<style scoped>\n",
       "    .dataframe tbody tr th:only-of-type {\n",
       "        vertical-align: middle;\n",
       "    }\n",
       "\n",
       "    .dataframe tbody tr th {\n",
       "        vertical-align: top;\n",
       "    }\n",
       "\n",
       "    .dataframe thead th {\n",
       "        text-align: right;\n",
       "    }\n",
       "</style>\n",
       "<table border=\"1\" class=\"dataframe\">\n",
       "  <thead>\n",
       "    <tr style=\"text-align: right;\">\n",
       "      <th></th>\n",
       "      <th>Date</th>\n",
       "      <th>Time</th>\n",
       "      <th>Open</th>\n",
       "      <th>High</th>\n",
       "      <th>Low</th>\n",
       "      <th>Close</th>\n",
       "      <th>Volume</th>\n",
       "      <th>NumberOfTrades</th>\n",
       "      <th>BidVolume</th>\n",
       "      <th>AskVolume</th>\n",
       "      <th>Delta</th>\n",
       "      <th>Range</th>\n",
       "      <th>RSI</th>\n",
       "      <th>RSI_Slow</th>\n",
       "      <th>Vol</th>\n",
       "      <th>Vol Lag 3</th>\n",
       "      <th>Vol Lag 4</th>\n",
       "      <th>Vol Lag 5</th>\n",
       "    </tr>\n",
       "  </thead>\n",
       "  <tbody>\n",
       "    <tr>\n",
       "      <th>0</th>\n",
       "      <td>2017/12/12</td>\n",
       "      <td>15:30:00.0</td>\n",
       "      <td>2668.25</td>\n",
       "      <td>2668.75</td>\n",
       "      <td>2668.25</td>\n",
       "      <td>2668.50</td>\n",
       "      <td>1272</td>\n",
       "      <td>242</td>\n",
       "      <td>600</td>\n",
       "      <td>672</td>\n",
       "      <td>-72</td>\n",
       "      <td>0.50</td>\n",
       "      <td>NaN</td>\n",
       "      <td>NaN</td>\n",
       "      <td>NaN</td>\n",
       "      <td>NaN</td>\n",
       "      <td>NaN</td>\n",
       "      <td>NaN</td>\n",
       "    </tr>\n",
       "    <tr>\n",
       "      <th>1</th>\n",
       "      <td>2017/12/12</td>\n",
       "      <td>15:33:00.0</td>\n",
       "      <td>2668.50</td>\n",
       "      <td>2668.50</td>\n",
       "      <td>2668.25</td>\n",
       "      <td>2668.50</td>\n",
       "      <td>54</td>\n",
       "      <td>27</td>\n",
       "      <td>6</td>\n",
       "      <td>48</td>\n",
       "      <td>-42</td>\n",
       "      <td>0.25</td>\n",
       "      <td>NaN</td>\n",
       "      <td>NaN</td>\n",
       "      <td>NaN</td>\n",
       "      <td>NaN</td>\n",
       "      <td>NaN</td>\n",
       "      <td>NaN</td>\n",
       "    </tr>\n",
       "    <tr>\n",
       "      <th>2</th>\n",
       "      <td>2017/12/12</td>\n",
       "      <td>15:36:00.0</td>\n",
       "      <td>2668.50</td>\n",
       "      <td>2668.75</td>\n",
       "      <td>2668.50</td>\n",
       "      <td>2668.75</td>\n",
       "      <td>735</td>\n",
       "      <td>207</td>\n",
       "      <td>305</td>\n",
       "      <td>430</td>\n",
       "      <td>-125</td>\n",
       "      <td>0.25</td>\n",
       "      <td>NaN</td>\n",
       "      <td>NaN</td>\n",
       "      <td>NaN</td>\n",
       "      <td>NaN</td>\n",
       "      <td>NaN</td>\n",
       "      <td>NaN</td>\n",
       "    </tr>\n",
       "    <tr>\n",
       "      <th>3</th>\n",
       "      <td>2017/12/12</td>\n",
       "      <td>15:39:00.0</td>\n",
       "      <td>2668.50</td>\n",
       "      <td>2669.00</td>\n",
       "      <td>2668.50</td>\n",
       "      <td>2668.75</td>\n",
       "      <td>566</td>\n",
       "      <td>120</td>\n",
       "      <td>382</td>\n",
       "      <td>184</td>\n",
       "      <td>198</td>\n",
       "      <td>0.50</td>\n",
       "      <td>NaN</td>\n",
       "      <td>NaN</td>\n",
       "      <td>NaN</td>\n",
       "      <td>NaN</td>\n",
       "      <td>NaN</td>\n",
       "      <td>NaN</td>\n",
       "    </tr>\n",
       "    <tr>\n",
       "      <th>4</th>\n",
       "      <td>2017/12/12</td>\n",
       "      <td>15:42:00.0</td>\n",
       "      <td>2668.75</td>\n",
       "      <td>2669.00</td>\n",
       "      <td>2668.50</td>\n",
       "      <td>2668.75</td>\n",
       "      <td>482</td>\n",
       "      <td>64</td>\n",
       "      <td>452</td>\n",
       "      <td>30</td>\n",
       "      <td>422</td>\n",
       "      <td>0.50</td>\n",
       "      <td>NaN</td>\n",
       "      <td>NaN</td>\n",
       "      <td>0.136931</td>\n",
       "      <td>NaN</td>\n",
       "      <td>NaN</td>\n",
       "      <td>NaN</td>\n",
       "    </tr>\n",
       "  </tbody>\n",
       "</table>\n",
       "</div>"
      ],
      "text/plain": [
       "         Date         Time     Open     High      Low    Close   Volume  \\\n",
       "0  2017/12/12   15:30:00.0  2668.25  2668.75  2668.25  2668.50     1272   \n",
       "1  2017/12/12   15:33:00.0  2668.50  2668.50  2668.25  2668.50       54   \n",
       "2  2017/12/12   15:36:00.0  2668.50  2668.75  2668.50  2668.75      735   \n",
       "3  2017/12/12   15:39:00.0  2668.50  2669.00  2668.50  2668.75      566   \n",
       "4  2017/12/12   15:42:00.0  2668.75  2669.00  2668.50  2668.75      482   \n",
       "\n",
       "    NumberOfTrades   BidVolume   AskVolume  Delta  Range  RSI  RSI_Slow  \\\n",
       "0              242         600         672    -72   0.50  NaN       NaN   \n",
       "1               27           6          48    -42   0.25  NaN       NaN   \n",
       "2              207         305         430   -125   0.25  NaN       NaN   \n",
       "3              120         382         184    198   0.50  NaN       NaN   \n",
       "4               64         452          30    422   0.50  NaN       NaN   \n",
       "\n",
       "        Vol  Vol Lag 3  Vol Lag 4  Vol Lag 5  \n",
       "0       NaN        NaN        NaN        NaN  \n",
       "1       NaN        NaN        NaN        NaN  \n",
       "2       NaN        NaN        NaN        NaN  \n",
       "3       NaN        NaN        NaN        NaN  \n",
       "4  0.136931        NaN        NaN        NaN  "
      ]
     },
     "execution_count": 206,
     "metadata": {},
     "output_type": "execute_result"
    }
   ],
   "source": [
    "#rechecking the head of our es data\n",
    "es.head()"
   ]
  },
  {
   "cell_type": "markdown",
   "metadata": {},
   "source": [
    "Now let's add our predictions to our es dataframe."
   ]
  },
  {
   "cell_type": "markdown",
   "metadata": {},
   "source": [
    "Recall that in order to build our QDA model, we had to do a 80/20 train test split. This means that we trained our model on 80% of our es data and tested it on 20%. This also means that we have predictions for only 20% of our data and thus the length of our predictions will not match the length of our es dataframe."
   ]
  },
  {
   "cell_type": "markdown",
   "metadata": {},
   "source": [
    "What we will have to do, given that we know from our classification report and confusion matrix that our model is valid, is fit our model to all of our es data so that we can get predictions for the other 80% of our data and be able to add them to our es dataframe. "
   ]
  },
  {
   "cell_type": "markdown",
   "metadata": {},
   "source": [
    "We'll initialize a second predictions variable and pass in our entire X into our model."
   ]
  },
  {
   "cell_type": "code",
   "execution_count": 67,
   "metadata": {
    "collapsed": false
   },
   "outputs": [],
   "source": [
    "#initializing second predictions variable for es dataframe\n",
    "predictions_2=model.predict(X.fillna(0))"
   ]
  },
  {
   "cell_type": "markdown",
   "metadata": {},
   "source": [
    "Now we're ready to add our predictions to our es dataframe so that we can pass it into our rsi_strategy."
   ]
  },
  {
   "cell_type": "code",
   "execution_count": 68,
   "metadata": {
    "collapsed": false
   },
   "outputs": [],
   "source": [
    "#adding our QDA model's predictions to our es dataframe\n",
    "es['Predictions']=predictions_2"
   ]
  },
  {
   "cell_type": "markdown",
   "metadata": {},
   "source": [
    "Okay, we now have our predictions stored in our es dataframe. Now we can recalibrate our strategy so that if we have a prediction of \"Down\" or in other words our model predicts a losing trade, we don't trade. Let's add this additional logic to our class."
   ]
  },
  {
   "cell_type": "code",
   "execution_count": 92,
   "metadata": {
    "collapsed": false
   },
   "outputs": [],
   "source": [
    "class optimized_rsi(object):\n",
    "    \n",
    "    def __init__(self,data,n,data_name,start,end):\n",
    "                        \n",
    "            self.data=data #the dataframe\n",
    "            self.n=n #the moving average\n",
    "            self.data_name=data_name #the name that will appear on plots\n",
    "            self.start=start #the beginning date of the sample period\n",
    "            self.end=end #the ending date of the sample period\n",
    "                                \n",
    "        \n",
    "    \n",
    "    def generate_signals(self):\n",
    "        \n",
    "        \n",
    "        delta=self.data[' Close'].diff()\n",
    "        dUp,dDown=delta.copy(),delta.copy()\n",
    "        dUp[dUp<0]=0\n",
    "        dDown[dDown>0]=0\n",
    "        RolUp=dUp.rolling(self.n).mean()\n",
    "        RolDown=dDown.rolling(self.n).mean()\n",
    "\n",
    "        #assigning indicator to the dataframe\n",
    "        self.data['RSI']=np.where(RolDown!=0, RolUp/RolDown,1)\n",
    "        self.data['RSI_Slow']=self.data['RSI'].rolling(self.n).mean()\n",
    "\n",
    "        #creating signals;\n",
    "        #altering the signal generator by going through our predictions \n",
    "        #and reinitializing signals to 0 whose prediction is down\n",
    "        self.data=self.data.assign(Signal=pd.Series(np.zeros(len(self.data))).values)\n",
    "        self.data['QDA Signal']=np.zeros(len(self.data))\n",
    "        \n",
    "        self.data.loc[self.data['RSI']<self.data['RSI_Slow'],'Signal']=1\n",
    "        self.data.loc[self.data['RSI']>self.data['RSI_Slow'], 'Signal']=-1\n",
    "        \n",
    "        self.data['QDA Signal']=np.where(self.data['Predictions']==\"Down\",0,self.data['Signal'])\n",
    "        \n",
    "                \n",
    "        return\n",
    "        \n",
    "    def plot_performance(self,allocation):\n",
    "        #intializing a variable for initial allocation\n",
    "        #to be used to create equity curve\n",
    "        self.allocation=allocation\n",
    "               \n",
    "        #creating returns and portfolio value series\n",
    "        self.data['Return']=np.log(self.data[' Close']/self.data[' Close'].shift(1))\n",
    "        #using our signal 2 column to calcuate returns instead of signal 1 column\n",
    "        self.data['S_Return']=self.data['QDA Signal'].shift(1)*self.data['Return']\n",
    "        self.data['Market_Return']=self.data['Return'].expanding().sum()\n",
    "        self.data['Strategy_Return']=self.data['S_Return'].expanding().sum()\n",
    "        self.data['Portfolio Value']=((self.data['Strategy_Return']+1)*self.allocation)\n",
    "        \n",
    "        #creating metrics\n",
    "        self.data['Wins']=np.where(self.data['S_Return'] > 0,1,0)\n",
    "        self.data['Losses']=np.where(self.data['S_Return']<0,1,0)\n",
    "        self.data['Total Wins']=self.data['Wins'].sum()\n",
    "        self.data['Total Losses']=self.data['Losses'].sum()\n",
    "        self.data['Total Trades']=self.data['Total Wins'][0]+self.data['Total Losses'][0]\n",
    "        self.data['Hit Ratio']=round(self.data['Total Wins']/self.data['Total Losses'],2)\n",
    "        self.data['Win Pct']=round(self.data['Total Wins']/self.data['Total Trades'],2)\n",
    "        self.data['Loss Pct']=round(self.data['Total Losses']/self.data['Total Trades'],2)\n",
    "        \n",
    "        \n",
    "        \n",
    "        #Plotting the Performance of the RSI Strategy\n",
    "    \n",
    "        plt.plot(self.data['Market_Return'],color='black', label='Market Returns')\n",
    "        plt.plot(self.data['Strategy_Return'],color='blue', label= 'Strategy Returns')\n",
    "        plt.title('%s RSI Strategy Backtest'%(self.data_name))\n",
    "        plt.legend(loc=0)\n",
    "        plt.tight_layout()\n",
    "        plt.show()\n",
    "        \n",
    "        plt.plot(self.data['Portfolio Value'])\n",
    "        plt.title('%s Portfolio Value'%(self.data_name))\n",
    "        plt.show()"
   ]
  },
  {
   "cell_type": "markdown",
   "metadata": {},
   "source": [
    "Now that we have altered our signal generator to account for our QDA model's predictions, let's initialize our strat2 object and compare our performance to that of our strat1 strategy."
   ]
  },
  {
   "cell_type": "code",
   "execution_count": 93,
   "metadata": {
    "collapsed": true
   },
   "outputs": [],
   "source": [
    "#initializing our strat2 strategy\n",
    "strat2=optimized_rsi(es,10,'ES',es.iloc[0]['Date'],es.iloc[-1]['Date'])"
   ]
  },
  {
   "cell_type": "code",
   "execution_count": 94,
   "metadata": {
    "collapsed": false
   },
   "outputs": [],
   "source": [
    "#generating signals\n",
    "strat2.generate_signals()"
   ]
  },
  {
   "cell_type": "markdown",
   "metadata": {},
   "source": [
    "Now that we have our signals based on our QDA model's predictions, we can call our plot_performance method to create our equity curve and then compare the metrics of our two strategy implementations."
   ]
  },
  {
   "cell_type": "code",
   "execution_count": 95,
   "metadata": {
    "collapsed": false
   },
   "outputs": [
    {
     "data": {
      "image/png": "[encoded data removed]",
      "text/plain": [
       "<matplotlib.figure.Figure at 0x16b017b3518>"
      ]
     },
     "metadata": {},
     "output_type": "display_data"
    },
    {
     "data": {
      "image/png": "[encoded data removed]",
      "text/plain": [
       "<matplotlib.figure.Figure at 0x16b01259cf8>"
      ]
     },
     "metadata": {},
     "output_type": "display_data"
    }
   ],
   "source": [
    "#plotting performance\n",
    "strat2.plot_performance(10000)"
   ]
  },
  {
   "cell_type": "markdown",
   "metadata": {},
   "source": [
    "Now that we've have created the second instance of our momentum strategy we can calculate our metrics and compare the two our strat1 strategy."
   ]
  },
  {
   "cell_type": "code",
   "execution_count": 96,
   "metadata": {
    "collapsed": true
   },
   "outputs": [],
   "source": [
    "#generating metrics\n",
    "strat2_trades=strat2.data['Total Trades'][0]\n",
    "strat2_hit_ratio=strat2.data['Hit Ratio'][0]\n",
    "strat2_win_pct=strat2.data['Win Pct'][0]\n",
    "strat2_loss_pct=strat2.data['Loss Pct'][0]"
   ]
  },
  {
   "cell_type": "code",
   "execution_count": 97,
   "metadata": {
    "collapsed": false
   },
   "outputs": [
    {
     "name": "stdout",
     "output_type": "stream",
     "text": [
      "Strat 2 Hit Ratio: 0.97\n",
      "Strat 2 Win Percentage: 0.49\n",
      "Strat 2 Loss Percentage: 0.51\n",
      "Strat 2 Total Trades: 1323\n"
     ]
    }
   ],
   "source": [
    "#printing strat2 metrics\n",
    "print('Strat 2 Hit Ratio:',strat2_hit_ratio)\n",
    "print('Strat 2 Win Percentage:',strat2_win_pct)\n",
    "print('Strat 2 Loss Percentage:',strat2_loss_pct)\n",
    "print('Strat 2 Total Trades:',strat2_trades)"
   ]
  },
  {
   "cell_type": "markdown",
   "metadata": {
    "collapsed": true
   },
   "source": [
    "Let's store recall our strat1 metrics."
   ]
  },
  {
   "cell_type": "code",
   "execution_count": 105,
   "metadata": {
    "collapsed": true
   },
   "outputs": [],
   "source": [
    "#getting strat1 metrics\n",
    "strat1_trades=strat1.data['Total Trades'][0]\n",
    "strat1_hit_ratio=strat1.data['Hit Ratio'][0]\n",
    "strat1_win_pct=strat1.data['Win Pct'][0]\n",
    "strat1_loss_pct=strat1.data['Loss Pct'][0]\n"
   ]
  },
  {
   "cell_type": "code",
   "execution_count": 106,
   "metadata": {
    "collapsed": false
   },
   "outputs": [
    {
     "name": "stdout",
     "output_type": "stream",
     "text": [
      "Strat 1 Hit Ratio: 0.93\n",
      "Strat 1 Win Percentage: 0.48\n",
      "Strat 1 Loss Percentage: 0.52\n",
      "Strat 1 Total Trades: 22431\n"
     ]
    }
   ],
   "source": [
    "#printing our strat1 metrics\n",
    "print('Strat 1 Hit Ratio:',strat1_hit_ratio)\n",
    "print('Strat 1 Win Percentage:',strat1_win_pct)\n",
    "print('Strat 1 Loss Percentage:',strat1_loss_pct)\n",
    "print('Strat 1 Total Trades:',strat1_trades)"
   ]
  },
  {
   "cell_type": "markdown",
   "metadata": {},
   "source": [
    "Okay, something interesting has happened. Recall earlier I stated that the fact that we only win 48% of the time wasn't the issue, the issue was shifting the probability in our favor, and limiting our losing trades. This is why we built our QDA model so that we could predict with a high degree of confidence, when we were likely to take a trade that would result in a loss."
   ]
  },
  {
   "cell_type": "markdown",
   "metadata": {
    "collapsed": true
   },
   "source": [
    "Notice that our metrics have changed slightly. Our strat2 Hit Ratio did improve somewhat and increase to .97 versus .93 for strat1. Our strat2 Win Pct increased to .49 from .48 in strat1 which also corresponds to a Loss Pct of .51 for strat2 and .52 for strat1. Notice the significant difference in the number of trades that we took. We took substantially more trades in our strat1 instance versus that of our strat2 instance."
   ]
  },
  {
   "cell_type": "markdown",
   "metadata": {},
   "source": [
    "This directly affects the probability of our strategy making it to production. We effectively eliminated a lot of the trades that posed an issue for our strategy using our QDA model. Also, look at the equity curves of our strat1 and strat2 instances. Our strat1 instance finished the period down at a portfolio value of approximately 9600. Our strat2 instance finished the period up with a portfolio value of 10,200 which is less than its runup but still a significant improvement to that of the strat1 instance."
   ]
  },
  {
   "cell_type": "markdown",
   "metadata": {},
   "source": [
    "This is significant given the small change in our Win and Loss Percentages and shows that there are other factors present that play a major role in the profitability of a trading strategy. If you look closely at the end of the period, you can see the true effect of our QDA model. Toward the end of the period during our strat1 instance, we simply sold off in a straight line. But taking a look at our strat2 instance over the same time frame, we actually improved our trading significantly."
   ]
  },
  {
   "cell_type": "markdown",
   "metadata": {},
   "source": [
    "Naturally, relative to this strategy, there is a lot more that can be done to build upon what we've learned here. But, this experiment has proven that the framework presented here is a viable one for optimizing intraday trading strategies. Admitedly, the strategy presented in this post was designed to have flaws to test the idea of using QDA for optimization.In other words, I didn't attempt to optimize the strategy and merely wanted one that showed some potential much like strategies you may be working on currently. So imagine what you could do with this framework and a strategy you're actually trying to bring to production."
   ]
  },
  {
   "cell_type": "markdown",
   "metadata": {},
   "source": [
    "# Review"
   ]
  },
  {
   "cell_type": "markdown",
   "metadata": {
    "collapsed": true
   },
   "source": [
    "We've covered a lot in this post and hopefully you gained insight that can help you in strategy development."
   ]
  },
  {
   "cell_type": "markdown",
   "metadata": {
    "collapsed": true
   },
   "source": [
    "We began by gaining an understanding of what QDA is and took a look at some of the math behind the model. We reviewed what learned in a prior post on LDA and made comparisons to that of QDA. We imported some intraday data on the eMini S&P 500 with the objective of creating an intraday momentum strategy and using QDA to improve our strategy. Before constructing our strategy we did some exploratory data analysis to learn more about our dataset."
   ]
  },
  {
   "cell_type": "markdown",
   "metadata": {
    "collapsed": true
   },
   "source": [
    "We used object oriented programming to design our RSI strategy in a way that would allow us to reuse our code and make multiple strategy instances. After creating our first strategy instance, we saw that our strategy was not production ready, but showed some signs of potential. Our objective was then to build a QDA model to predict when we might take a losing trade prior to us doing so in an effort to shift the probability of our strategy making it to production back in our favor."
   ]
  },
  {
   "cell_type": "markdown",
   "metadata": {},
   "source": [
    "We added a categorical column, Return Direction, to our data, and engineered features, Lag 3, 4, and 5 of volatility as well as our RSI to be used in our QDA model. Our QDA model showed a 92% Accuracy for being able to predict losing trades. We then applied our predictions to our data and created a strat2 instance. Though our Win and Loss Percentages changed marginally, our return increased by $600 and our strat2 instance, unlike our strat1 instance, actually finished the period positively."
   ]
  },
  {
   "cell_type": "markdown",
   "metadata": {},
   "source": [
    "Our research showed that our Intraday Machine Learning Optimization framework is viable for increasing the probability of bringing our strategies to production. There is a lot more that we can do to improve this strategy but the general idea has been conveyed. "
   ]
  }
 ],
 "metadata": {
  "kernelspec": {
   "display_name": "Python [Root]",
   "language": "python",
   "name": "Python [Root]"
  },
  "language_info": {
   "codemirror_mode": {
    "name": "ipython",
    "version": 3
   },
   "file_extension": ".py",
   "mimetype": "text/x-python",
   "name": "python",
   "nbconvert_exporter": "python",
   "pygments_lexer": "ipython3",
   "version": "3.5.2"
  }
 },
 "nbformat": 4,
 "nbformat_minor": 2
}
